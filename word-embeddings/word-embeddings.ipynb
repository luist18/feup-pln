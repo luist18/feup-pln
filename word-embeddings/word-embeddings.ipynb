{
 "cells": [
  {
   "cell_type": "markdown",
   "metadata": {},
   "source": [
    "Notebook prepared by Henrique Lopes Cardoso (hlc@fe.up.pt), based on [Word2Vec Tutorial Notebook](https://github.com/kavgan/nlp-in-practice/tree/master/word2vec) by Kavita Ganesan and on [Gensim's documentation on the Word2Vec Model](https://radimrehurek.com/gensim/auto_examples/tutorials/run_word2vec.html).\n",
    "\n",
    "# WORD EMBEDDINGS"
   ]
  },
  {
   "cell_type": "markdown",
   "metadata": {},
   "source": [
    "## Word2Vec in Gensim\n",
    "\n",
    "[Word2Vec](https://code.google.com/archive/p/word2vec/) is a model for training word embeddings that revolutionized the way words are represented. [Gensim](https://radimrehurek.com/gensim_3.8.3/models/word2vec.html) provides an implementation of the algorithm, with which we can train our own word embeddings."
   ]
  },
  {
   "cell_type": "markdown",
   "metadata": {},
   "source": [
    "#### The data\n",
    "\n",
    "Training embeddings requires a big corpus, the bigger the better.\n",
    "\n",
    "For illustration purposes, we'll make use of the (not very big) [OpinRank](http://kavita-ganesan.com/entity-ranking-data/) dataset, which includes full reviews of cars and hotels. More specifically, we'll use an 84MB compressed file with 255404 hotel reviews.\n",
    "\n",
    "This is how each review looks like:"
   ]
  },
  {
   "cell_type": "code",
   "execution_count": 1,
   "metadata": {},
   "outputs": [
    {
     "name": "stdout",
     "output_type": "stream",
     "text": [
      "b\"Oct 12 2009 \\tNice trendy hotel location not too bad.\\tI stayed in this hotel for one night. As this is a fairly new place some of the taxi drivers did not know where it was and/or did not want to drive there. Once I have eventually arrived at the hotel, I was very pleasantly surprised with the decor of the lobby/ground floor area. It was very stylish and modern. I found the reception's staff geeting me with 'Aloha' a bit out of place, but I guess they are briefed to say that to keep up the coroporate image.As I have a Starwood Preferred Guest member, I was given a small gift upon-check in. It was only a couple of fridge magnets in a gift box, but nevertheless a nice gesture.My room was nice and roomy, there are tea and coffee facilities in each room and you get two complimentary bottles of water plus some toiletries by 'bliss'.The location is not great. It is at the last metro stop and you then need to take a taxi, but if you are not planning on going to see the historic sites in Beijing, then you will be ok.I chose to have some breakfast in the hotel, which was really tasty and there was a good selection of dishes. There are a couple of computers to use in the communal area, as well as a pool table. There is also a small swimming pool and a gym area.I would definitely stay in this hotel again, but only if I did not plan to travel to central Beijing, as it can take a long time. The location is ok if you plan to do a lot of shopping, as there is a big shopping centre just few minutes away from the hotel and there are plenty of eating options around, including restaurants that serve a dog meat!\\t\\r\\n\"\n"
     ]
    }
   ],
   "source": [
    "import gzip\n",
    "\n",
    "data_file = \"reviews_data.txt.gz\"\n",
    "\n",
    "with gzip.open('reviews_data.txt.gz', 'rb') as f:\n",
    "    for i, line in enumerate(f):\n",
    "        print(line)\n",
    "        break\n"
   ]
  },
  {
   "cell_type": "markdown",
   "metadata": {},
   "source": [
    "Let's read the whole dataset into a list, while providing some logging information.\n",
    "\n",
    "In the process of reading the data directly from the compressed file, we'll perform some pre-processing of the reviews using [gensim.utils.simple_preprocess](https://tedboy.github.io/nlps/generated/generated/gensim.utils.simple_preprocess.html). This does some basic pre-processing such as tokenization and lowercasing, and returns back a list of tokens (words)."
   ]
  },
  {
   "cell_type": "code",
   "execution_count": 3,
   "metadata": {},
   "outputs": [],
   "source": [
    "import gensim\n",
    "import logging\n",
    "\n",
    "logging.basicConfig(format='%(asctime)s : %(levelname)s : %(message)s', level=logging.INFO)\n",
    "\n",
    "def read_input(input_file):\n",
    "    \"\"\"This method reads the input file which is in gzip format\"\"\"\n",
    "    \n",
    "    logging.info(\"reading file {0}...this may take a while\".format(input_file))\n",
    "    \n",
    "    with gzip.open(input_file, 'rb') as f:\n",
    "        for i, line in enumerate (f): \n",
    "\n",
    "            if (i%10000==0):\n",
    "                logging.info (\"read {0} reviews\".format (i))\n",
    "            # do some pre-processing and return a list of words for each review text\n",
    "            yield gensim.utils.simple_preprocess(line)\n",
    "    logging.info(\"Done reading data file\")"
   ]
  },
  {
   "cell_type": "code",
   "execution_count": 4,
   "metadata": {},
   "outputs": [
    {
     "name": "stderr",
     "output_type": "stream",
     "text": [
      "2022-04-13 19:24:45,604 : INFO : reading file reviews_data.txt.gz...this may take a while\n",
      "2022-04-13 19:24:45,606 : INFO : read 0 reviews\n",
      "2022-04-13 19:24:46,574 : INFO : read 10000 reviews\n",
      "2022-04-13 19:24:47,538 : INFO : read 20000 reviews\n",
      "2022-04-13 19:24:48,645 : INFO : read 30000 reviews\n",
      "2022-04-13 19:24:49,700 : INFO : read 40000 reviews\n",
      "2022-04-13 19:24:50,867 : INFO : read 50000 reviews\n",
      "2022-04-13 19:24:52,159 : INFO : read 60000 reviews\n",
      "2022-04-13 19:24:53,112 : INFO : read 70000 reviews\n",
      "2022-04-13 19:24:53,972 : INFO : read 80000 reviews\n",
      "2022-04-13 19:24:54,879 : INFO : read 90000 reviews\n",
      "2022-04-13 19:24:55,761 : INFO : read 100000 reviews\n",
      "2022-04-13 19:24:56,650 : INFO : read 110000 reviews\n",
      "2022-04-13 19:24:57,532 : INFO : read 120000 reviews\n",
      "2022-04-13 19:24:58,428 : INFO : read 130000 reviews\n",
      "2022-04-13 19:24:59,450 : INFO : read 140000 reviews\n",
      "2022-04-13 19:25:00,352 : INFO : read 150000 reviews\n",
      "2022-04-13 19:25:04,299 : INFO : read 160000 reviews\n",
      "2022-04-13 19:25:05,209 : INFO : read 170000 reviews\n",
      "2022-04-13 19:25:06,167 : INFO : read 180000 reviews\n",
      "2022-04-13 19:25:07,078 : INFO : read 190000 reviews\n",
      "2022-04-13 19:25:08,059 : INFO : read 200000 reviews\n",
      "2022-04-13 19:25:09,010 : INFO : read 210000 reviews\n",
      "2022-04-13 19:25:09,958 : INFO : read 220000 reviews\n",
      "2022-04-13 19:25:10,821 : INFO : read 230000 reviews\n",
      "2022-04-13 19:25:11,723 : INFO : read 240000 reviews\n",
      "2022-04-13 19:25:17,814 : INFO : read 250000 reviews\n",
      "2022-04-13 19:25:18,330 : INFO : Done reading data file\n"
     ]
    },
    {
     "data": {
      "text/plain": [
       "255404"
      ]
     },
     "execution_count": 4,
     "metadata": {},
     "output_type": "execute_result"
    }
   ],
   "source": [
    "# compressed file with the data\n",
    "data_file=\"reviews_data.txt.gz\"\n",
    "\n",
    "# read the tokenized reviews into a list\n",
    "documents = list(read_input(data_file))\n",
    "\n",
    "len(documents)"
   ]
  },
  {
   "cell_type": "markdown",
   "metadata": {},
   "source": [
    "Each review item becomes a list of words, so what we have is a list of lists."
   ]
  },
  {
   "cell_type": "code",
   "execution_count": 5,
   "metadata": {},
   "outputs": [
    {
     "name": "stdout",
     "output_type": "stream",
     "text": [
      "['oct', 'nice', 'trendy', 'hotel', 'location', 'not', 'too', 'bad', 'stayed', 'in', 'this', 'hotel', 'for', 'one', 'night', 'as', 'this', 'is', 'fairly', 'new', 'place', 'some', 'of', 'the', 'taxi', 'drivers', 'did', 'not', 'know', 'where', 'it', 'was', 'and', 'or', 'did', 'not', 'want', 'to', 'drive', 'there', 'once', 'have', 'eventually', 'arrived', 'at', 'the', 'hotel', 'was', 'very', 'pleasantly', 'surprised', 'with', 'the', 'decor', 'of', 'the', 'lobby', 'ground', 'floor', 'area', 'it', 'was', 'very', 'stylish', 'and', 'modern', 'found', 'the', 'reception', 'staff', 'geeting', 'me', 'with', 'aloha', 'bit', 'out', 'of', 'place', 'but', 'guess', 'they', 'are', 'briefed', 'to', 'say', 'that', 'to', 'keep', 'up', 'the', 'coroporate', 'image', 'as', 'have', 'starwood', 'preferred', 'guest', 'member', 'was', 'given', 'small', 'gift', 'upon', 'check', 'in', 'it', 'was', 'only', 'couple', 'of', 'fridge', 'magnets', 'in', 'gift', 'box', 'but', 'nevertheless', 'nice', 'gesture', 'my', 'room', 'was', 'nice', 'and', 'roomy', 'there', 'are', 'tea', 'and', 'coffee', 'facilities', 'in', 'each', 'room', 'and', 'you', 'get', 'two', 'complimentary', 'bottles', 'of', 'water', 'plus', 'some', 'toiletries', 'by', 'bliss', 'the', 'location', 'is', 'not', 'great', 'it', 'is', 'at', 'the', 'last', 'metro', 'stop', 'and', 'you', 'then', 'need', 'to', 'take', 'taxi', 'but', 'if', 'you', 'are', 'not', 'planning', 'on', 'going', 'to', 'see', 'the', 'historic', 'sites', 'in', 'beijing', 'then', 'you', 'will', 'be', 'ok', 'chose', 'to', 'have', 'some', 'breakfast', 'in', 'the', 'hotel', 'which', 'was', 'really', 'tasty', 'and', 'there', 'was', 'good', 'selection', 'of', 'dishes', 'there', 'are', 'couple', 'of', 'computers', 'to', 'use', 'in', 'the', 'communal', 'area', 'as', 'well', 'as', 'pool', 'table', 'there', 'is', 'also', 'small', 'swimming', 'pool', 'and', 'gym', 'area', 'would', 'definitely', 'stay', 'in', 'this', 'hotel', 'again', 'but', 'only', 'if', 'did', 'not', 'plan', 'to', 'travel', 'to', 'central', 'beijing', 'as', 'it', 'can', 'take', 'long', 'time', 'the', 'location', 'is', 'ok', 'if', 'you', 'plan', 'to', 'do', 'lot', 'of', 'shopping', 'as', 'there', 'is', 'big', 'shopping', 'centre', 'just', 'few', 'minutes', 'away', 'from', 'the', 'hotel', 'and', 'there', 'are', 'plenty', 'of', 'eating', 'options', 'around', 'including', 'restaurants', 'that', 'serve', 'dog', 'meat']\n"
     ]
    }
   ],
   "source": [
    "print(documents[0])"
   ]
  },
  {
   "cell_type": "markdown",
   "metadata": {},
   "source": [
    "#### Training the Word2Vec model\n",
    "\n",
    "To train a Word2Vec model, we instantiate Word2Vec and pass it the text we have loaded before. You can check the available options for [instantiation](https://radimrehurek.com/gensim_3.8.3/models/word2vec.html#gensim.models.word2vec.Word2Vec) and for [training](https://radimrehurek.com/gensim_3.8.3/models/word2vec.html#gensim.models.word2vec.Word2Vec.train).\n",
    "\n",
    "Training a Word2Vec model takes time, depending on your hardware. In this particular case, expect training to take something between 5 to 10 minutes on an Intel Core-i7 16GB desktop. I know, that's a very wide range, but of course it depends on which other processes are running in the same machine..."
   ]
  },
  {
   "cell_type": "code",
   "execution_count": 6,
   "metadata": {},
   "outputs": [
    {
     "name": "stderr",
     "output_type": "stream",
     "text": [
      "2022-04-13 19:48:36,145 : INFO : collecting all words and their counts\n",
      "2022-04-13 19:48:36,146 : INFO : PROGRESS: at sentence #0, processed 0 words, keeping 0 word types\n",
      "2022-04-13 19:48:36,349 : INFO : PROGRESS: at sentence #10000, processed 1655714 words, keeping 25777 word types\n",
      "2022-04-13 19:48:36,527 : INFO : PROGRESS: at sentence #20000, processed 3317863 words, keeping 35016 word types\n",
      "2022-04-13 19:48:36,758 : INFO : PROGRESS: at sentence #30000, processed 5264072 words, keeping 47518 word types\n",
      "2022-04-13 19:48:36,993 : INFO : PROGRESS: at sentence #40000, processed 7081746 words, keeping 56675 word types\n",
      "2022-04-13 19:48:37,239 : INFO : PROGRESS: at sentence #50000, processed 9089491 words, keeping 63744 word types\n",
      "2022-04-13 19:48:37,470 : INFO : PROGRESS: at sentence #60000, processed 11013727 words, keeping 76787 word types\n",
      "2022-04-13 19:48:37,671 : INFO : PROGRESS: at sentence #70000, processed 12637529 words, keeping 83200 word types\n",
      "2022-04-13 19:48:37,865 : INFO : PROGRESS: at sentence #80000, processed 14099755 words, keeping 88460 word types\n",
      "2022-04-13 19:48:38,083 : INFO : PROGRESS: at sentence #90000, processed 15662153 words, keeping 93358 word types\n",
      "2022-04-13 19:48:38,257 : INFO : PROGRESS: at sentence #100000, processed 17164491 words, keeping 97887 word types\n",
      "2022-04-13 19:48:38,442 : INFO : PROGRESS: at sentence #110000, processed 18652296 words, keeping 102133 word types\n",
      "2022-04-13 19:48:38,633 : INFO : PROGRESS: at sentence #120000, processed 20152533 words, keeping 105924 word types\n",
      "2022-04-13 19:48:38,823 : INFO : PROGRESS: at sentence #130000, processed 21684334 words, keeping 110105 word types\n",
      "2022-04-13 19:48:39,059 : INFO : PROGRESS: at sentence #140000, processed 23330210 words, keeping 114109 word types\n",
      "2022-04-13 19:48:39,251 : INFO : PROGRESS: at sentence #150000, processed 24838758 words, keeping 118175 word types\n",
      "2022-04-13 19:48:39,448 : INFO : PROGRESS: at sentence #160000, processed 26390914 words, keeping 118671 word types\n",
      "2022-04-13 19:48:39,661 : INFO : PROGRESS: at sentence #170000, processed 27913920 words, keeping 123357 word types\n",
      "2022-04-13 19:48:39,874 : INFO : PROGRESS: at sentence #180000, processed 29535616 words, keeping 126749 word types\n",
      "2022-04-13 19:48:40,077 : INFO : PROGRESS: at sentence #190000, processed 31096463 words, keeping 129848 word types\n",
      "2022-04-13 19:48:40,295 : INFO : PROGRESS: at sentence #200000, processed 32805275 words, keeping 133256 word types\n",
      "2022-04-13 19:48:40,510 : INFO : PROGRESS: at sentence #210000, processed 34434202 words, keeping 136365 word types\n",
      "2022-04-13 19:48:40,731 : INFO : PROGRESS: at sentence #220000, processed 36083486 words, keeping 139419 word types\n",
      "2022-04-13 19:48:40,928 : INFO : PROGRESS: at sentence #230000, processed 37571766 words, keeping 142400 word types\n",
      "2022-04-13 19:48:41,132 : INFO : PROGRESS: at sentence #240000, processed 39138194 words, keeping 145233 word types\n",
      "2022-04-13 19:48:41,340 : INFO : PROGRESS: at sentence #250000, processed 40695053 words, keeping 147967 word types\n",
      "2022-04-13 19:48:41,442 : INFO : collected 150060 word types from a corpus of 41519359 raw words and 255404 sentences\n",
      "2022-04-13 19:48:41,443 : INFO : Creating a fresh vocabulary\n",
      "2022-04-13 19:48:41,907 : INFO : Word2Vec lifecycle event {'msg': 'effective_min_count=2 retains 70537 unique words (47.005864320938294%% of original 150060, drops 79523)', 'datetime': '2022-04-13T19:48:41.907106', 'gensim': '4.1.2', 'python': '3.9.10 (main, Jan 15 2022, 11:40:53) \\n[Clang 13.0.0 (clang-1300.0.29.3)]', 'platform': 'macOS-12.3.1-arm64-arm-64bit', 'event': 'prepare_vocab'}\n",
      "2022-04-13 19:48:41,907 : INFO : Word2Vec lifecycle event {'msg': 'effective_min_count=2 leaves 41439836 word corpus (99.80846765962836%% of original 41519359, drops 79523)', 'datetime': '2022-04-13T19:48:41.907556', 'gensim': '4.1.2', 'python': '3.9.10 (main, Jan 15 2022, 11:40:53) \\n[Clang 13.0.0 (clang-1300.0.29.3)]', 'platform': 'macOS-12.3.1-arm64-arm-64bit', 'event': 'prepare_vocab'}\n",
      "2022-04-13 19:48:42,072 : INFO : deleting the raw counts dictionary of 150060 items\n",
      "2022-04-13 19:48:42,078 : INFO : sample=0.001 downsamples 55 most-common words\n",
      "2022-04-13 19:48:42,079 : INFO : Word2Vec lifecycle event {'msg': 'downsampling leaves estimated 30349251.36700416 word corpus (73.2%% of prior 41439836)', 'datetime': '2022-04-13T19:48:42.079439', 'gensim': '4.1.2', 'python': '3.9.10 (main, Jan 15 2022, 11:40:53) \\n[Clang 13.0.0 (clang-1300.0.29.3)]', 'platform': 'macOS-12.3.1-arm64-arm-64bit', 'event': 'prepare_vocab'}\n",
      "2022-04-13 19:48:42,379 : INFO : estimated required memory for 70537 words and 150 dimensions: 119912900 bytes\n",
      "2022-04-13 19:48:42,379 : INFO : resetting layer weights\n",
      "2022-04-13 19:48:42,422 : INFO : Word2Vec lifecycle event {'update': False, 'trim_rule': 'None', 'datetime': '2022-04-13T19:48:42.421974', 'gensim': '4.1.2', 'python': '3.9.10 (main, Jan 15 2022, 11:40:53) \\n[Clang 13.0.0 (clang-1300.0.29.3)]', 'platform': 'macOS-12.3.1-arm64-arm-64bit', 'event': 'build_vocab'}\n",
      "2022-04-13 19:48:42,423 : INFO : Word2Vec lifecycle event {'msg': 'training model with 10 workers on 70537 vocabulary and 150 features, using sg=1 hs=0 sample=0.001 negative=5 window=10 shrink_windows=True', 'datetime': '2022-04-13T19:48:42.423963', 'gensim': '4.1.2', 'python': '3.9.10 (main, Jan 15 2022, 11:40:53) \\n[Clang 13.0.0 (clang-1300.0.29.3)]', 'platform': 'macOS-12.3.1-arm64-arm-64bit', 'event': 'train'}\n",
      "2022-04-13 19:48:43,457 : INFO : EPOCH 1 - PROGRESS: at 1.11% examples, 356400 words/s, in_qsize 19, out_qsize 0\n",
      "2022-04-13 19:48:44,469 : INFO : EPOCH 1 - PROGRESS: at 2.57% examples, 398888 words/s, in_qsize 19, out_qsize 0\n",
      "2022-04-13 19:48:45,488 : INFO : EPOCH 1 - PROGRESS: at 4.14% examples, 419615 words/s, in_qsize 19, out_qsize 0\n",
      "2022-04-13 19:48:46,527 : INFO : EPOCH 1 - PROGRESS: at 5.73% examples, 432682 words/s, in_qsize 19, out_qsize 0\n",
      "2022-04-13 19:48:47,580 : INFO : EPOCH 1 - PROGRESS: at 7.29% examples, 437928 words/s, in_qsize 19, out_qsize 0\n",
      "2022-04-13 19:48:48,613 : INFO : EPOCH 1 - PROGRESS: at 8.79% examples, 441532 words/s, in_qsize 19, out_qsize 0\n",
      "2022-04-13 19:48:49,621 : INFO : EPOCH 1 - PROGRESS: at 10.10% examples, 448525 words/s, in_qsize 19, out_qsize 0\n",
      "2022-04-13 19:48:50,622 : INFO : EPOCH 1 - PROGRESS: at 11.41% examples, 451678 words/s, in_qsize 20, out_qsize 0\n",
      "2022-04-13 19:48:51,624 : INFO : EPOCH 1 - PROGRESS: at 12.59% examples, 453285 words/s, in_qsize 19, out_qsize 0\n",
      "2022-04-13 19:48:52,650 : INFO : EPOCH 1 - PROGRESS: at 14.03% examples, 454230 words/s, in_qsize 19, out_qsize 0\n",
      "2022-04-13 19:48:53,659 : INFO : EPOCH 1 - PROGRESS: at 15.49% examples, 457079 words/s, in_qsize 19, out_qsize 0\n",
      "2022-04-13 19:48:54,663 : INFO : EPOCH 1 - PROGRESS: at 16.78% examples, 457855 words/s, in_qsize 19, out_qsize 0\n",
      "2022-04-13 19:48:55,668 : INFO : EPOCH 1 - PROGRESS: at 18.07% examples, 459006 words/s, in_qsize 19, out_qsize 0\n",
      "2022-04-13 19:48:56,674 : INFO : EPOCH 1 - PROGRESS: at 19.23% examples, 457200 words/s, in_qsize 19, out_qsize 0\n",
      "2022-04-13 19:48:57,738 : INFO : EPOCH 1 - PROGRESS: at 20.35% examples, 454418 words/s, in_qsize 19, out_qsize 0\n",
      "2022-04-13 19:48:58,746 : INFO : EPOCH 1 - PROGRESS: at 21.84% examples, 454371 words/s, in_qsize 19, out_qsize 0\n",
      "2022-04-13 19:48:59,747 : INFO : EPOCH 1 - PROGRESS: at 22.88% examples, 450578 words/s, in_qsize 19, out_qsize 0\n",
      "2022-04-13 19:49:00,773 : INFO : EPOCH 1 - PROGRESS: at 23.93% examples, 448884 words/s, in_qsize 19, out_qsize 0\n",
      "2022-04-13 19:49:01,788 : INFO : EPOCH 1 - PROGRESS: at 24.83% examples, 441721 words/s, in_qsize 19, out_qsize 0\n",
      "2022-04-13 19:49:02,797 : INFO : EPOCH 1 - PROGRESS: at 26.53% examples, 441788 words/s, in_qsize 19, out_qsize 0\n",
      "2022-04-13 19:49:03,810 : INFO : EPOCH 1 - PROGRESS: at 28.20% examples, 441802 words/s, in_qsize 19, out_qsize 0\n",
      "2022-04-13 19:49:04,862 : INFO : EPOCH 1 - PROGRESS: at 29.75% examples, 441029 words/s, in_qsize 19, out_qsize 1\n",
      "2022-04-13 19:49:05,857 : INFO : EPOCH 1 - PROGRESS: at 31.37% examples, 440786 words/s, in_qsize 19, out_qsize 0\n",
      "2022-04-13 19:49:06,863 : INFO : EPOCH 1 - PROGRESS: at 33.04% examples, 441779 words/s, in_qsize 19, out_qsize 0\n",
      "2022-04-13 19:49:07,901 : INFO : EPOCH 1 - PROGRESS: at 34.33% examples, 439162 words/s, in_qsize 19, out_qsize 0\n",
      "2022-04-13 19:49:08,910 : INFO : EPOCH 1 - PROGRESS: at 35.86% examples, 439345 words/s, in_qsize 19, out_qsize 0\n",
      "2022-04-13 19:49:09,913 : INFO : EPOCH 1 - PROGRESS: at 37.16% examples, 436934 words/s, in_qsize 19, out_qsize 0\n",
      "2022-04-13 19:49:10,954 : INFO : EPOCH 1 - PROGRESS: at 38.68% examples, 435352 words/s, in_qsize 19, out_qsize 0\n",
      "2022-04-13 19:49:11,966 : INFO : EPOCH 1 - PROGRESS: at 40.21% examples, 435104 words/s, in_qsize 19, out_qsize 0\n",
      "2022-04-13 19:49:12,975 : INFO : EPOCH 1 - PROGRESS: at 41.92% examples, 435616 words/s, in_qsize 19, out_qsize 0\n",
      "2022-04-13 19:49:13,987 : INFO : EPOCH 1 - PROGRESS: at 43.54% examples, 436479 words/s, in_qsize 19, out_qsize 0\n",
      "2022-04-13 19:49:14,999 : INFO : EPOCH 1 - PROGRESS: at 45.23% examples, 436642 words/s, in_qsize 19, out_qsize 0\n",
      "2022-04-13 19:49:16,002 : INFO : EPOCH 1 - PROGRESS: at 46.87% examples, 437954 words/s, in_qsize 19, out_qsize 0\n",
      "2022-04-13 19:49:17,003 : INFO : EPOCH 1 - PROGRESS: at 48.44% examples, 438423 words/s, in_qsize 19, out_qsize 0\n",
      "2022-04-13 19:49:18,022 : INFO : EPOCH 1 - PROGRESS: at 50.11% examples, 439007 words/s, in_qsize 19, out_qsize 0\n",
      "2022-04-13 19:49:19,032 : INFO : EPOCH 1 - PROGRESS: at 51.64% examples, 439255 words/s, in_qsize 19, out_qsize 0\n",
      "2022-04-13 19:49:20,040 : INFO : EPOCH 1 - PROGRESS: at 53.17% examples, 440479 words/s, in_qsize 19, out_qsize 0\n",
      "2022-04-13 19:49:21,043 : INFO : EPOCH 1 - PROGRESS: at 54.77% examples, 441410 words/s, in_qsize 19, out_qsize 0\n",
      "2022-04-13 19:49:22,069 : INFO : EPOCH 1 - PROGRESS: at 56.39% examples, 441097 words/s, in_qsize 20, out_qsize 2\n",
      "2022-04-13 19:49:23,098 : INFO : EPOCH 1 - PROGRESS: at 57.99% examples, 441488 words/s, in_qsize 19, out_qsize 0\n",
      "2022-04-13 19:49:24,102 : INFO : EPOCH 1 - PROGRESS: at 59.52% examples, 441247 words/s, in_qsize 19, out_qsize 0\n",
      "2022-04-13 19:49:25,120 : INFO : EPOCH 1 - PROGRESS: at 61.01% examples, 440933 words/s, in_qsize 19, out_qsize 0\n",
      "2022-04-13 19:49:26,143 : INFO : EPOCH 1 - PROGRESS: at 62.58% examples, 441020 words/s, in_qsize 19, out_qsize 0\n",
      "2022-04-13 19:49:27,199 : INFO : EPOCH 1 - PROGRESS: at 64.53% examples, 441914 words/s, in_qsize 19, out_qsize 0\n",
      "2022-04-13 19:49:28,200 : INFO : EPOCH 1 - PROGRESS: at 66.06% examples, 442777 words/s, in_qsize 19, out_qsize 0\n",
      "2022-04-13 19:49:29,227 : INFO : EPOCH 1 - PROGRESS: at 67.70% examples, 443292 words/s, in_qsize 19, out_qsize 0\n",
      "2022-04-13 19:49:30,251 : INFO : EPOCH 1 - PROGRESS: at 69.35% examples, 444180 words/s, in_qsize 19, out_qsize 0\n",
      "2022-04-13 19:49:31,256 : INFO : EPOCH 1 - PROGRESS: at 70.89% examples, 445081 words/s, in_qsize 20, out_qsize 0\n",
      "2022-04-13 19:49:32,306 : INFO : EPOCH 1 - PROGRESS: at 72.14% examples, 443258 words/s, in_qsize 19, out_qsize 0\n",
      "2022-04-13 19:49:33,307 : INFO : EPOCH 1 - PROGRESS: at 73.72% examples, 442872 words/s, in_qsize 19, out_qsize 0\n",
      "2022-04-13 19:49:34,314 : INFO : EPOCH 1 - PROGRESS: at 74.90% examples, 441186 words/s, in_qsize 20, out_qsize 0\n",
      "2022-04-13 19:49:35,364 : INFO : EPOCH 1 - PROGRESS: at 76.32% examples, 441290 words/s, in_qsize 19, out_qsize 0\n",
      "2022-04-13 19:49:36,370 : INFO : EPOCH 1 - PROGRESS: at 77.72% examples, 441193 words/s, in_qsize 19, out_qsize 0\n",
      "2022-04-13 19:49:37,382 : INFO : EPOCH 1 - PROGRESS: at 79.23% examples, 441444 words/s, in_qsize 19, out_qsize 0\n",
      "2022-04-13 19:49:38,384 : INFO : EPOCH 1 - PROGRESS: at 80.68% examples, 441773 words/s, in_qsize 19, out_qsize 0\n",
      "2022-04-13 19:49:39,389 : INFO : EPOCH 1 - PROGRESS: at 82.28% examples, 442318 words/s, in_qsize 19, out_qsize 0\n",
      "2022-04-13 19:49:40,395 : INFO : EPOCH 1 - PROGRESS: at 83.81% examples, 442595 words/s, in_qsize 19, out_qsize 0\n",
      "2022-04-13 19:49:41,443 : INFO : EPOCH 1 - PROGRESS: at 85.11% examples, 441919 words/s, in_qsize 19, out_qsize 0\n",
      "2022-04-13 19:49:42,446 : INFO : EPOCH 1 - PROGRESS: at 86.61% examples, 441606 words/s, in_qsize 18, out_qsize 1\n",
      "2022-04-13 19:49:43,476 : INFO : EPOCH 1 - PROGRESS: at 88.27% examples, 441715 words/s, in_qsize 19, out_qsize 0\n",
      "2022-04-13 19:49:44,503 : INFO : EPOCH 1 - PROGRESS: at 90.01% examples, 442335 words/s, in_qsize 19, out_qsize 0\n",
      "2022-04-13 19:49:45,505 : INFO : EPOCH 1 - PROGRESS: at 91.66% examples, 442752 words/s, in_qsize 19, out_qsize 0\n",
      "2022-04-13 19:49:46,509 : INFO : EPOCH 1 - PROGRESS: at 93.17% examples, 443000 words/s, in_qsize 19, out_qsize 0\n",
      "2022-04-13 19:49:47,520 : INFO : EPOCH 1 - PROGRESS: at 94.84% examples, 443460 words/s, in_qsize 19, out_qsize 0\n",
      "2022-04-13 19:49:48,528 : INFO : EPOCH 1 - PROGRESS: at 96.49% examples, 443909 words/s, in_qsize 19, out_qsize 0\n",
      "2022-04-13 19:49:49,528 : INFO : EPOCH 1 - PROGRESS: at 98.05% examples, 444136 words/s, in_qsize 19, out_qsize 0\n",
      "2022-04-13 19:49:50,531 : INFO : EPOCH 1 - PROGRESS: at 99.68% examples, 444378 words/s, in_qsize 13, out_qsize 0\n",
      "2022-04-13 19:49:50,611 : INFO : worker thread finished; awaiting finish of 9 more threads\n",
      "2022-04-13 19:49:50,618 : INFO : worker thread finished; awaiting finish of 8 more threads\n",
      "2022-04-13 19:49:50,635 : INFO : worker thread finished; awaiting finish of 7 more threads\n",
      "2022-04-13 19:49:50,640 : INFO : worker thread finished; awaiting finish of 6 more threads\n",
      "2022-04-13 19:49:50,648 : INFO : worker thread finished; awaiting finish of 5 more threads\n",
      "2022-04-13 19:49:50,652 : INFO : worker thread finished; awaiting finish of 4 more threads\n",
      "2022-04-13 19:49:50,657 : INFO : worker thread finished; awaiting finish of 3 more threads\n",
      "2022-04-13 19:49:50,673 : INFO : worker thread finished; awaiting finish of 2 more threads\n",
      "2022-04-13 19:49:50,681 : INFO : worker thread finished; awaiting finish of 1 more threads\n",
      "2022-04-13 19:49:50,688 : INFO : worker thread finished; awaiting finish of 0 more threads\n",
      "2022-04-13 19:49:50,688 : INFO : EPOCH - 1 : training on 41519359 raw words (30348769 effective words) took 68.2s, 444680 effective words/s\n",
      "2022-04-13 19:49:51,692 : INFO : EPOCH 2 - PROGRESS: at 1.34% examples, 426451 words/s, in_qsize 19, out_qsize 0\n",
      "2022-04-13 19:49:52,704 : INFO : EPOCH 2 - PROGRESS: at 2.77% examples, 430315 words/s, in_qsize 19, out_qsize 0\n",
      "2022-04-13 19:49:53,711 : INFO : EPOCH 2 - PROGRESS: at 4.34% examples, 442148 words/s, in_qsize 19, out_qsize 0\n",
      "2022-04-13 19:49:54,719 : INFO : EPOCH 2 - PROGRESS: at 5.83% examples, 447767 words/s, in_qsize 19, out_qsize 0\n",
      "2022-04-13 19:49:55,752 : INFO : EPOCH 2 - PROGRESS: at 7.33% examples, 447342 words/s, in_qsize 19, out_qsize 0\n",
      "2022-04-13 19:49:56,774 : INFO : EPOCH 2 - PROGRESS: at 8.71% examples, 443087 words/s, in_qsize 19, out_qsize 0\n",
      "2022-04-13 19:49:57,777 : INFO : EPOCH 2 - PROGRESS: at 9.88% examples, 443211 words/s, in_qsize 19, out_qsize 0\n",
      "2022-04-13 19:49:58,790 : INFO : EPOCH 2 - PROGRESS: at 11.08% examples, 441913 words/s, in_qsize 19, out_qsize 0\n",
      "2022-04-13 19:49:59,824 : INFO : EPOCH 2 - PROGRESS: at 12.21% examples, 440672 words/s, in_qsize 19, out_qsize 0\n",
      "2022-04-13 19:50:00,840 : INFO : EPOCH 2 - PROGRESS: at 13.59% examples, 441247 words/s, in_qsize 19, out_qsize 0\n",
      "2022-04-13 19:50:01,842 : INFO : EPOCH 2 - PROGRESS: at 14.80% examples, 439686 words/s, in_qsize 19, out_qsize 0\n",
      "2022-04-13 19:50:02,844 : INFO : EPOCH 2 - PROGRESS: at 16.14% examples, 440936 words/s, in_qsize 19, out_qsize 0\n",
      "2022-04-13 19:50:03,854 : INFO : EPOCH 2 - PROGRESS: at 17.27% examples, 438830 words/s, in_qsize 19, out_qsize 0\n",
      "2022-04-13 19:50:04,854 : INFO : EPOCH 2 - PROGRESS: at 18.47% examples, 438772 words/s, in_qsize 19, out_qsize 0\n",
      "2022-04-13 19:50:05,873 : INFO : EPOCH 2 - PROGRESS: at 19.48% examples, 435689 words/s, in_qsize 19, out_qsize 0\n",
      "2022-04-13 19:50:06,895 : INFO : EPOCH 2 - PROGRESS: at 20.51% examples, 432539 words/s, in_qsize 19, out_qsize 0\n",
      "2022-04-13 19:50:07,908 : INFO : EPOCH 2 - PROGRESS: at 21.91% examples, 432049 words/s, in_qsize 19, out_qsize 0\n",
      "2022-04-13 19:50:08,929 : INFO : EPOCH 2 - PROGRESS: at 23.04% examples, 431523 words/s, in_qsize 19, out_qsize 0\n",
      "2022-04-13 19:50:09,979 : INFO : EPOCH 2 - PROGRESS: at 24.15% examples, 430766 words/s, in_qsize 19, out_qsize 0\n",
      "2022-04-13 19:50:10,982 : INFO : EPOCH 2 - PROGRESS: at 25.52% examples, 430047 words/s, in_qsize 19, out_qsize 0\n",
      "2022-04-13 19:50:11,991 : INFO : EPOCH 2 - PROGRESS: at 27.07% examples, 429374 words/s, in_qsize 19, out_qsize 0\n",
      "2022-04-13 19:50:13,064 : INFO : EPOCH 2 - PROGRESS: at 28.68% examples, 428465 words/s, in_qsize 19, out_qsize 0\n",
      "2022-04-13 19:50:14,083 : INFO : EPOCH 2 - PROGRESS: at 29.96% examples, 425156 words/s, in_qsize 19, out_qsize 0\n",
      "2022-04-13 19:50:15,083 : INFO : EPOCH 2 - PROGRESS: at 31.40% examples, 423461 words/s, in_qsize 19, out_qsize 1\n",
      "2022-04-13 19:50:16,113 : INFO : EPOCH 2 - PROGRESS: at 32.93% examples, 422999 words/s, in_qsize 19, out_qsize 0\n",
      "2022-04-13 19:50:17,120 : INFO : EPOCH 2 - PROGRESS: at 34.30% examples, 422751 words/s, in_qsize 19, out_qsize 0\n",
      "2022-04-13 19:50:18,142 : INFO : EPOCH 2 - PROGRESS: at 35.82% examples, 423067 words/s, in_qsize 20, out_qsize 0\n",
      "2022-04-13 19:50:19,160 : INFO : EPOCH 2 - PROGRESS: at 37.33% examples, 423129 words/s, in_qsize 19, out_qsize 0\n",
      "2022-04-13 19:50:20,175 : INFO : EPOCH 2 - PROGRESS: at 38.85% examples, 422925 words/s, in_qsize 19, out_qsize 0\n",
      "2022-04-13 19:50:21,176 : INFO : EPOCH 2 - PROGRESS: at 40.36% examples, 422992 words/s, in_qsize 19, out_qsize 0\n",
      "2022-04-13 19:50:22,203 : INFO : EPOCH 2 - PROGRESS: at 41.77% examples, 420671 words/s, in_qsize 19, out_qsize 0\n",
      "2022-04-13 19:50:23,220 : INFO : EPOCH 2 - PROGRESS: at 43.16% examples, 419863 words/s, in_qsize 19, out_qsize 0\n",
      "2022-04-13 19:50:24,228 : INFO : EPOCH 2 - PROGRESS: at 44.65% examples, 419106 words/s, in_qsize 19, out_qsize 0\n",
      "2022-04-13 19:50:25,232 : INFO : EPOCH 2 - PROGRESS: at 46.18% examples, 419247 words/s, in_qsize 19, out_qsize 0\n",
      "2022-04-13 19:50:26,243 : INFO : EPOCH 2 - PROGRESS: at 47.47% examples, 418438 words/s, in_qsize 19, out_qsize 0\n",
      "2022-04-13 19:50:27,258 : INFO : EPOCH 2 - PROGRESS: at 48.90% examples, 417688 words/s, in_qsize 19, out_qsize 0\n",
      "2022-04-13 19:50:28,258 : INFO : EPOCH 2 - PROGRESS: at 50.37% examples, 417861 words/s, in_qsize 19, out_qsize 0\n",
      "2022-04-13 19:50:29,265 : INFO : EPOCH 2 - PROGRESS: at 51.81% examples, 417941 words/s, in_qsize 19, out_qsize 0\n",
      "2022-04-13 19:50:30,287 : INFO : EPOCH 2 - PROGRESS: at 53.10% examples, 417687 words/s, in_qsize 20, out_qsize 0\n",
      "2022-04-13 19:50:31,293 : INFO : EPOCH 2 - PROGRESS: at 54.57% examples, 418040 words/s, in_qsize 19, out_qsize 0\n",
      "2022-04-13 19:50:32,307 : INFO : EPOCH 2 - PROGRESS: at 56.02% examples, 417225 words/s, in_qsize 19, out_qsize 0\n",
      "2022-04-13 19:50:33,312 : INFO : EPOCH 2 - PROGRESS: at 57.44% examples, 417062 words/s, in_qsize 19, out_qsize 0\n",
      "2022-04-13 19:50:34,336 : INFO : EPOCH 2 - PROGRESS: at 58.91% examples, 417179 words/s, in_qsize 17, out_qsize 2\n",
      "2022-04-13 19:50:35,339 : INFO : EPOCH 2 - PROGRESS: at 60.35% examples, 417240 words/s, in_qsize 19, out_qsize 0\n",
      "2022-04-13 19:50:36,351 : INFO : EPOCH 2 - PROGRESS: at 61.77% examples, 417035 words/s, in_qsize 20, out_qsize 0\n",
      "2022-04-13 19:50:37,382 : INFO : EPOCH 2 - PROGRESS: at 63.30% examples, 416976 words/s, in_qsize 19, out_qsize 0\n",
      "2022-04-13 19:50:38,403 : INFO : EPOCH 2 - PROGRESS: at 64.96% examples, 417077 words/s, in_qsize 19, out_qsize 0\n",
      "2022-04-13 19:50:39,442 : INFO : EPOCH 2 - PROGRESS: at 66.26% examples, 416879 words/s, in_qsize 19, out_qsize 0\n",
      "2022-04-13 19:50:40,461 : INFO : EPOCH 2 - PROGRESS: at 67.76% examples, 416977 words/s, in_qsize 19, out_qsize 0\n",
      "2022-04-13 19:50:41,463 : INFO : EPOCH 2 - PROGRESS: at 69.05% examples, 416404 words/s, in_qsize 19, out_qsize 0\n",
      "2022-04-13 19:50:42,478 : INFO : EPOCH 2 - PROGRESS: at 70.46% examples, 416853 words/s, in_qsize 19, out_qsize 0\n",
      "2022-04-13 19:50:43,486 : INFO : EPOCH 2 - PROGRESS: at 71.85% examples, 417110 words/s, in_qsize 19, out_qsize 0\n",
      "2022-04-13 19:50:44,487 : INFO : EPOCH 2 - PROGRESS: at 73.40% examples, 417111 words/s, in_qsize 19, out_qsize 0\n",
      "2022-04-13 19:50:45,515 : INFO : EPOCH 2 - PROGRESS: at 74.86% examples, 417157 words/s, in_qsize 19, out_qsize 0\n",
      "2022-04-13 19:50:46,520 : INFO : EPOCH 2 - PROGRESS: at 76.09% examples, 416880 words/s, in_qsize 19, out_qsize 0\n",
      "2022-04-13 19:50:47,526 : INFO : EPOCH 2 - PROGRESS: at 77.33% examples, 416456 words/s, in_qsize 19, out_qsize 0\n",
      "2022-04-13 19:50:48,542 : INFO : EPOCH 2 - PROGRESS: at 78.63% examples, 416110 words/s, in_qsize 19, out_qsize 0\n",
      "2022-04-13 19:50:49,546 : INFO : EPOCH 2 - PROGRESS: at 80.07% examples, 416602 words/s, in_qsize 19, out_qsize 0\n",
      "2022-04-13 19:50:50,560 : INFO : EPOCH 2 - PROGRESS: at 81.39% examples, 416394 words/s, in_qsize 19, out_qsize 0\n",
      "2022-04-13 19:50:51,596 : INFO : EPOCH 2 - PROGRESS: at 82.88% examples, 416414 words/s, in_qsize 19, out_qsize 0\n",
      "2022-04-13 19:50:52,597 : INFO : EPOCH 2 - PROGRESS: at 84.25% examples, 416540 words/s, in_qsize 19, out_qsize 0\n",
      "2022-04-13 19:50:53,607 : INFO : EPOCH 2 - PROGRESS: at 85.57% examples, 416579 words/s, in_qsize 19, out_qsize 0\n",
      "2022-04-13 19:50:54,611 : INFO : EPOCH 2 - PROGRESS: at 87.06% examples, 416461 words/s, in_qsize 19, out_qsize 0\n",
      "2022-04-13 19:50:55,650 : INFO : EPOCH 2 - PROGRESS: at 88.48% examples, 415914 words/s, in_qsize 19, out_qsize 0\n",
      "2022-04-13 19:50:56,651 : INFO : EPOCH 2 - PROGRESS: at 89.92% examples, 415735 words/s, in_qsize 19, out_qsize 0\n",
      "2022-04-13 19:50:57,653 : INFO : EPOCH 2 - PROGRESS: at 91.45% examples, 416100 words/s, in_qsize 19, out_qsize 0\n",
      "2022-04-13 19:50:58,709 : INFO : EPOCH 2 - PROGRESS: at 92.91% examples, 416005 words/s, in_qsize 19, out_qsize 0\n",
      "2022-04-13 19:50:59,714 : INFO : EPOCH 2 - PROGRESS: at 94.38% examples, 416116 words/s, in_qsize 20, out_qsize 0\n",
      "2022-04-13 19:51:00,721 : INFO : EPOCH 2 - PROGRESS: at 95.73% examples, 415710 words/s, in_qsize 19, out_qsize 0\n",
      "2022-04-13 19:51:01,732 : INFO : EPOCH 2 - PROGRESS: at 97.15% examples, 415662 words/s, in_qsize 19, out_qsize 0\n",
      "2022-04-13 19:51:02,735 : INFO : EPOCH 2 - PROGRESS: at 98.45% examples, 415174 words/s, in_qsize 19, out_qsize 0\n",
      "2022-04-13 19:51:03,568 : INFO : worker thread finished; awaiting finish of 9 more threads\n",
      "2022-04-13 19:51:03,583 : INFO : worker thread finished; awaiting finish of 8 more threads\n",
      "2022-04-13 19:51:03,622 : INFO : worker thread finished; awaiting finish of 7 more threads\n",
      "2022-04-13 19:51:03,629 : INFO : worker thread finished; awaiting finish of 6 more threads\n",
      "2022-04-13 19:51:03,638 : INFO : worker thread finished; awaiting finish of 5 more threads\n",
      "2022-04-13 19:51:03,640 : INFO : worker thread finished; awaiting finish of 4 more threads\n",
      "2022-04-13 19:51:03,654 : INFO : worker thread finished; awaiting finish of 3 more threads\n",
      "2022-04-13 19:51:03,667 : INFO : worker thread finished; awaiting finish of 2 more threads\n",
      "2022-04-13 19:51:03,668 : INFO : worker thread finished; awaiting finish of 1 more threads\n",
      "2022-04-13 19:51:03,674 : INFO : worker thread finished; awaiting finish of 0 more threads\n",
      "2022-04-13 19:51:03,675 : INFO : EPOCH - 2 : training on 41519359 raw words (30348920 effective words) took 73.0s, 415809 effective words/s\n",
      "2022-04-13 19:51:04,696 : INFO : EPOCH 3 - PROGRESS: at 1.19% examples, 377416 words/s, in_qsize 18, out_qsize 1\n",
      "2022-04-13 19:51:05,698 : INFO : EPOCH 3 - PROGRESS: at 2.68% examples, 418215 words/s, in_qsize 19, out_qsize 0\n",
      "2022-04-13 19:51:06,700 : INFO : EPOCH 3 - PROGRESS: at 4.06% examples, 415604 words/s, in_qsize 19, out_qsize 0\n",
      "2022-04-13 19:51:07,759 : INFO : EPOCH 3 - PROGRESS: at 5.43% examples, 410170 words/s, in_qsize 19, out_qsize 0\n",
      "2022-04-13 19:51:08,796 : INFO : EPOCH 3 - PROGRESS: at 6.85% examples, 411243 words/s, in_qsize 19, out_qsize 0\n",
      "2022-04-13 19:51:09,806 : INFO : EPOCH 3 - PROGRESS: at 7.95% examples, 402247 words/s, in_qsize 19, out_qsize 0\n",
      "2022-04-13 19:51:10,810 : INFO : EPOCH 3 - PROGRESS: at 9.24% examples, 403940 words/s, in_qsize 19, out_qsize 0\n",
      "2022-04-13 19:51:11,839 : INFO : EPOCH 3 - PROGRESS: at 10.35% examples, 405916 words/s, in_qsize 20, out_qsize 0\n",
      "2022-04-13 19:51:12,839 : INFO : EPOCH 3 - PROGRESS: at 11.46% examples, 405482 words/s, in_qsize 20, out_qsize 0\n",
      "2022-04-13 19:51:13,850 : INFO : EPOCH 3 - PROGRESS: at 12.47% examples, 404744 words/s, in_qsize 19, out_qsize 0\n",
      "2022-04-13 19:51:14,872 : INFO : EPOCH 3 - PROGRESS: at 13.76% examples, 405148 words/s, in_qsize 19, out_qsize 0\n",
      "2022-04-13 19:51:15,885 : INFO : EPOCH 3 - PROGRESS: at 14.96% examples, 406291 words/s, in_qsize 19, out_qsize 0\n",
      "2022-04-13 19:51:16,892 : INFO : EPOCH 3 - PROGRESS: at 16.21% examples, 407029 words/s, in_qsize 19, out_qsize 0\n",
      "2022-04-13 19:51:17,930 : INFO : EPOCH 3 - PROGRESS: at 17.25% examples, 404796 words/s, in_qsize 19, out_qsize 0\n",
      "2022-04-13 19:51:18,945 : INFO : EPOCH 3 - PROGRESS: at 18.43% examples, 406112 words/s, in_qsize 19, out_qsize 0\n",
      "2022-04-13 19:51:19,972 : INFO : EPOCH 3 - PROGRESS: at 19.44% examples, 405097 words/s, in_qsize 19, out_qsize 0\n",
      "2022-04-13 19:51:20,979 : INFO : EPOCH 3 - PROGRESS: at 20.37% examples, 401800 words/s, in_qsize 19, out_qsize 0\n",
      "2022-04-13 19:51:22,004 : INFO : EPOCH 3 - PROGRESS: at 21.58% examples, 398918 words/s, in_qsize 19, out_qsize 1\n",
      "2022-04-13 19:51:23,008 : INFO : EPOCH 3 - PROGRESS: at 22.68% examples, 399723 words/s, in_qsize 19, out_qsize 0\n",
      "2022-04-13 19:51:24,049 : INFO : EPOCH 3 - PROGRESS: at 23.69% examples, 399080 words/s, in_qsize 19, out_qsize 0\n",
      "2022-04-13 19:51:25,066 : INFO : EPOCH 3 - PROGRESS: at 24.76% examples, 398590 words/s, in_qsize 19, out_qsize 0\n",
      "2022-04-13 19:51:26,069 : INFO : EPOCH 3 - PROGRESS: at 26.08% examples, 396515 words/s, in_qsize 19, out_qsize 0\n",
      "2022-04-13 19:51:27,083 : INFO : EPOCH 3 - PROGRESS: at 27.34% examples, 393849 words/s, in_qsize 19, out_qsize 0\n",
      "2022-04-13 19:51:28,088 : INFO : EPOCH 3 - PROGRESS: at 28.90% examples, 395072 words/s, in_qsize 19, out_qsize 0\n",
      "2022-04-13 19:51:29,141 : INFO : EPOCH 3 - PROGRESS: at 30.31% examples, 394857 words/s, in_qsize 19, out_qsize 0\n",
      "2022-04-13 19:51:30,145 : INFO : EPOCH 3 - PROGRESS: at 31.88% examples, 394897 words/s, in_qsize 19, out_qsize 0\n",
      "2022-04-13 19:51:31,239 : INFO : EPOCH 3 - PROGRESS: at 32.66% examples, 387823 words/s, in_qsize 19, out_qsize 0\n",
      "2022-04-13 19:51:32,322 : INFO : EPOCH 3 - PROGRESS: at 33.28% examples, 379204 words/s, in_qsize 20, out_qsize 0\n",
      "2022-04-13 19:51:33,377 : INFO : EPOCH 3 - PROGRESS: at 33.72% examples, 370620 words/s, in_qsize 19, out_qsize 0\n",
      "2022-04-13 19:51:34,395 : INFO : EPOCH 3 - PROGRESS: at 34.12% examples, 362346 words/s, in_qsize 19, out_qsize 0\n",
      "2022-04-13 19:51:35,415 : INFO : EPOCH 3 - PROGRESS: at 34.65% examples, 355276 words/s, in_qsize 19, out_qsize 0\n",
      "2022-04-13 19:51:36,441 : INFO : EPOCH 3 - PROGRESS: at 35.29% examples, 350098 words/s, in_qsize 19, out_qsize 0\n",
      "2022-04-13 19:51:37,472 : INFO : EPOCH 3 - PROGRESS: at 36.27% examples, 347102 words/s, in_qsize 19, out_qsize 0\n",
      "2022-04-13 19:51:38,510 : INFO : EPOCH 3 - PROGRESS: at 37.45% examples, 346911 words/s, in_qsize 19, out_qsize 0\n",
      "2022-04-13 19:51:39,511 : INFO : EPOCH 3 - PROGRESS: at 38.62% examples, 346029 words/s, in_qsize 19, out_qsize 0\n",
      "2022-04-13 19:51:40,554 : INFO : EPOCH 3 - PROGRESS: at 39.77% examples, 345434 words/s, in_qsize 20, out_qsize 0\n",
      "2022-04-13 19:51:41,564 : INFO : EPOCH 3 - PROGRESS: at 40.70% examples, 343069 words/s, in_qsize 19, out_qsize 0\n",
      "2022-04-13 19:51:42,576 : INFO : EPOCH 3 - PROGRESS: at 41.71% examples, 340464 words/s, in_qsize 19, out_qsize 0\n",
      "2022-04-13 19:51:43,579 : INFO : EPOCH 3 - PROGRESS: at 42.41% examples, 337107 words/s, in_qsize 19, out_qsize 0\n",
      "2022-04-13 19:51:44,585 : INFO : EPOCH 3 - PROGRESS: at 43.44% examples, 335880 words/s, in_qsize 19, out_qsize 0\n",
      "2022-04-13 19:51:45,592 : INFO : EPOCH 3 - PROGRESS: at 44.94% examples, 337283 words/s, in_qsize 19, out_qsize 0\n",
      "2022-04-13 19:51:46,605 : INFO : EPOCH 3 - PROGRESS: at 46.19% examples, 337399 words/s, in_qsize 19, out_qsize 0\n",
      "2022-04-13 19:51:47,609 : INFO : EPOCH 3 - PROGRESS: at 47.35% examples, 337871 words/s, in_qsize 19, out_qsize 0\n",
      "2022-04-13 19:51:48,624 : INFO : EPOCH 3 - PROGRESS: at 48.60% examples, 338277 words/s, in_qsize 19, out_qsize 0\n",
      "2022-04-13 19:51:49,627 : INFO : EPOCH 3 - PROGRESS: at 50.17% examples, 340290 words/s, in_qsize 19, out_qsize 1\n",
      "2022-04-13 19:51:50,632 : INFO : EPOCH 3 - PROGRESS: at 51.43% examples, 341114 words/s, in_qsize 19, out_qsize 0\n",
      "2022-04-13 19:51:51,635 : INFO : EPOCH 3 - PROGRESS: at 52.76% examples, 342518 words/s, in_qsize 19, out_qsize 0\n",
      "2022-04-13 19:51:52,649 : INFO : EPOCH 3 - PROGRESS: at 53.96% examples, 342931 words/s, in_qsize 19, out_qsize 0\n",
      "2022-04-13 19:51:53,691 : INFO : EPOCH 3 - PROGRESS: at 55.10% examples, 342320 words/s, in_qsize 19, out_qsize 0\n",
      "2022-04-13 19:51:54,721 : INFO : EPOCH 3 - PROGRESS: at 56.46% examples, 342903 words/s, in_qsize 19, out_qsize 0\n",
      "2022-04-13 19:51:55,726 : INFO : EPOCH 3 - PROGRESS: at 57.67% examples, 342975 words/s, in_qsize 19, out_qsize 0\n",
      "2022-04-13 19:51:56,730 : INFO : EPOCH 3 - PROGRESS: at 58.98% examples, 343684 words/s, in_qsize 19, out_qsize 0\n",
      "2022-04-13 19:51:57,743 : INFO : EPOCH 3 - PROGRESS: at 60.46% examples, 345163 words/s, in_qsize 19, out_qsize 0\n",
      "2022-04-13 19:51:58,781 : INFO : EPOCH 3 - PROGRESS: at 61.91% examples, 346421 words/s, in_qsize 19, out_qsize 0\n",
      "2022-04-13 19:51:59,795 : INFO : EPOCH 3 - PROGRESS: at 63.35% examples, 347242 words/s, in_qsize 19, out_qsize 0\n",
      "2022-04-13 19:52:00,832 : INFO : EPOCH 3 - PROGRESS: at 64.74% examples, 347117 words/s, in_qsize 19, out_qsize 0\n",
      "2022-04-13 19:52:01,834 : INFO : EPOCH 3 - PROGRESS: at 65.98% examples, 348044 words/s, in_qsize 19, out_qsize 0\n",
      "2022-04-13 19:52:02,864 : INFO : EPOCH 3 - PROGRESS: at 67.38% examples, 348871 words/s, in_qsize 19, out_qsize 0\n",
      "2022-04-13 19:52:03,892 : INFO : EPOCH 3 - PROGRESS: at 68.62% examples, 349018 words/s, in_qsize 19, out_qsize 0\n",
      "2022-04-13 19:52:04,893 : INFO : EPOCH 3 - PROGRESS: at 69.70% examples, 348836 words/s, in_qsize 19, out_qsize 0\n",
      "2022-04-13 19:52:05,900 : INFO : EPOCH 3 - PROGRESS: at 70.83% examples, 348869 words/s, in_qsize 19, out_qsize 0\n",
      "2022-04-13 19:52:06,909 : INFO : EPOCH 3 - PROGRESS: at 71.97% examples, 348895 words/s, in_qsize 19, out_qsize 0\n",
      "2022-04-13 19:52:07,931 : INFO : EPOCH 3 - PROGRESS: at 73.37% examples, 349169 words/s, in_qsize 19, out_qsize 0\n",
      "2022-04-13 19:52:08,933 : INFO : EPOCH 3 - PROGRESS: at 74.66% examples, 349650 words/s, in_qsize 19, out_qsize 0\n",
      "2022-04-13 19:52:09,946 : INFO : EPOCH 3 - PROGRESS: at 75.84% examples, 349968 words/s, in_qsize 19, out_qsize 0\n",
      "2022-04-13 19:52:10,972 : INFO : EPOCH 3 - PROGRESS: at 76.99% examples, 350088 words/s, in_qsize 20, out_qsize 0\n",
      "2022-04-13 19:52:12,010 : INFO : EPOCH 3 - PROGRESS: at 78.27% examples, 350872 words/s, in_qsize 19, out_qsize 0\n",
      "2022-04-13 19:52:13,055 : INFO : EPOCH 3 - PROGRESS: at 79.49% examples, 350874 words/s, in_qsize 18, out_qsize 1\n",
      "2022-04-13 19:52:14,065 : INFO : EPOCH 3 - PROGRESS: at 80.79% examples, 351570 words/s, in_qsize 19, out_qsize 0\n",
      "2022-04-13 19:52:15,071 : INFO : EPOCH 3 - PROGRESS: at 82.19% examples, 352464 words/s, in_qsize 19, out_qsize 0\n",
      "2022-04-13 19:52:16,094 : INFO : EPOCH 3 - PROGRESS: at 83.35% examples, 352259 words/s, in_qsize 19, out_qsize 0\n",
      "2022-04-13 19:52:17,101 : INFO : EPOCH 3 - PROGRESS: at 84.47% examples, 352317 words/s, in_qsize 20, out_qsize 0\n",
      "2022-04-13 19:52:18,135 : INFO : EPOCH 3 - PROGRESS: at 85.83% examples, 353026 words/s, in_qsize 19, out_qsize 0\n",
      "2022-04-13 19:52:19,141 : INFO : EPOCH 3 - PROGRESS: at 87.35% examples, 353957 words/s, in_qsize 19, out_qsize 0\n",
      "2022-04-13 19:52:20,179 : INFO : EPOCH 3 - PROGRESS: at 88.95% examples, 354820 words/s, in_qsize 19, out_qsize 0\n",
      "2022-04-13 19:52:21,203 : INFO : EPOCH 3 - PROGRESS: at 90.32% examples, 355255 words/s, in_qsize 19, out_qsize 0\n",
      "2022-04-13 19:52:22,206 : INFO : EPOCH 3 - PROGRESS: at 91.71% examples, 355777 words/s, in_qsize 19, out_qsize 0\n",
      "2022-04-13 19:52:23,257 : INFO : EPOCH 3 - PROGRESS: at 93.11% examples, 356416 words/s, in_qsize 19, out_qsize 0\n",
      "2022-04-13 19:52:24,283 : INFO : EPOCH 3 - PROGRESS: at 94.44% examples, 356542 words/s, in_qsize 19, out_qsize 0\n",
      "2022-04-13 19:52:25,290 : INFO : EPOCH 3 - PROGRESS: at 95.77% examples, 356923 words/s, in_qsize 19, out_qsize 0\n",
      "2022-04-13 19:52:26,304 : INFO : EPOCH 3 - PROGRESS: at 96.92% examples, 356637 words/s, in_qsize 19, out_qsize 0\n",
      "2022-04-13 19:52:27,363 : INFO : EPOCH 3 - PROGRESS: at 98.37% examples, 357197 words/s, in_qsize 19, out_qsize 0\n",
      "2022-04-13 19:52:28,274 : INFO : worker thread finished; awaiting finish of 9 more threads\n",
      "2022-04-13 19:52:28,278 : INFO : worker thread finished; awaiting finish of 8 more threads\n",
      "2022-04-13 19:52:28,279 : INFO : worker thread finished; awaiting finish of 7 more threads\n",
      "2022-04-13 19:52:28,348 : INFO : worker thread finished; awaiting finish of 6 more threads\n",
      "2022-04-13 19:52:28,349 : INFO : worker thread finished; awaiting finish of 5 more threads\n",
      "2022-04-13 19:52:28,356 : INFO : worker thread finished; awaiting finish of 4 more threads\n",
      "2022-04-13 19:52:28,368 : INFO : EPOCH 3 - PROGRESS: at 99.93% examples, 358118 words/s, in_qsize 3, out_qsize 1\n",
      "2022-04-13 19:52:28,369 : INFO : worker thread finished; awaiting finish of 3 more threads\n",
      "2022-04-13 19:52:28,380 : INFO : worker thread finished; awaiting finish of 2 more threads\n",
      "2022-04-13 19:52:28,381 : INFO : worker thread finished; awaiting finish of 1 more threads\n",
      "2022-04-13 19:52:28,382 : INFO : worker thread finished; awaiting finish of 0 more threads\n",
      "2022-04-13 19:52:28,382 : INFO : EPOCH - 3 : training on 41519359 raw words (30352113 effective words) took 84.7s, 358316 effective words/s\n",
      "2022-04-13 19:52:29,405 : INFO : EPOCH 4 - PROGRESS: at 1.22% examples, 382809 words/s, in_qsize 19, out_qsize 0\n",
      "2022-04-13 19:52:30,429 : INFO : EPOCH 4 - PROGRESS: at 2.57% examples, 395197 words/s, in_qsize 19, out_qsize 0\n",
      "2022-04-13 19:52:31,462 : INFO : EPOCH 4 - PROGRESS: at 4.02% examples, 403261 words/s, in_qsize 19, out_qsize 0\n",
      "2022-04-13 19:52:32,484 : INFO : EPOCH 4 - PROGRESS: at 5.43% examples, 408280 words/s, in_qsize 19, out_qsize 0\n",
      "2022-04-13 19:52:33,542 : INFO : EPOCH 4 - PROGRESS: at 6.85% examples, 408091 words/s, in_qsize 19, out_qsize 0\n",
      "2022-04-13 19:52:34,573 : INFO : EPOCH 4 - PROGRESS: at 8.18% examples, 409880 words/s, in_qsize 19, out_qsize 0\n",
      "2022-04-13 19:52:35,591 : INFO : EPOCH 4 - PROGRESS: at 9.45% examples, 410903 words/s, in_qsize 19, out_qsize 0\n",
      "2022-04-13 19:52:36,605 : INFO : EPOCH 4 - PROGRESS: at 10.59% examples, 411896 words/s, in_qsize 20, out_qsize 0\n",
      "2022-04-13 19:52:37,606 : INFO : EPOCH 4 - PROGRESS: at 11.66% examples, 413170 words/s, in_qsize 19, out_qsize 0\n",
      "2022-04-13 19:52:38,620 : INFO : EPOCH 4 - PROGRESS: at 12.79% examples, 412883 words/s, in_qsize 19, out_qsize 0\n",
      "2022-04-13 19:52:39,628 : INFO : EPOCH 4 - PROGRESS: at 14.03% examples, 412346 words/s, in_qsize 19, out_qsize 0\n",
      "2022-04-13 19:52:40,651 : INFO : EPOCH 4 - PROGRESS: at 15.27% examples, 412630 words/s, in_qsize 19, out_qsize 0\n",
      "2022-04-13 19:52:41,666 : INFO : EPOCH 4 - PROGRESS: at 16.51% examples, 413709 words/s, in_qsize 19, out_qsize 0\n",
      "2022-04-13 19:52:42,667 : INFO : EPOCH 4 - PROGRESS: at 17.66% examples, 415029 words/s, in_qsize 19, out_qsize 0\n",
      "2022-04-13 19:52:43,686 : INFO : EPOCH 4 - PROGRESS: at 18.90% examples, 416414 words/s, in_qsize 19, out_qsize 0\n",
      "2022-04-13 19:52:44,696 : INFO : EPOCH 4 - PROGRESS: at 19.98% examples, 416934 words/s, in_qsize 19, out_qsize 0\n",
      "2022-04-13 19:52:45,697 : INFO : EPOCH 4 - PROGRESS: at 21.25% examples, 418088 words/s, in_qsize 20, out_qsize 0\n",
      "2022-04-13 19:52:46,704 : INFO : EPOCH 4 - PROGRESS: at 22.52% examples, 418592 words/s, in_qsize 19, out_qsize 0\n",
      "2022-04-13 19:52:47,730 : INFO : EPOCH 4 - PROGRESS: at 23.62% examples, 418745 words/s, in_qsize 18, out_qsize 1\n",
      "2022-04-13 19:52:48,752 : INFO : EPOCH 4 - PROGRESS: at 24.83% examples, 419611 words/s, in_qsize 19, out_qsize 0\n",
      "2022-04-13 19:52:49,780 : INFO : EPOCH 4 - PROGRESS: at 26.48% examples, 419716 words/s, in_qsize 20, out_qsize 1\n",
      "2022-04-13 19:52:50,785 : INFO : EPOCH 4 - PROGRESS: at 28.12% examples, 420550 words/s, in_qsize 19, out_qsize 0\n",
      "2022-04-13 19:52:51,786 : INFO : EPOCH 4 - PROGRESS: at 29.61% examples, 420701 words/s, in_qsize 20, out_qsize 0\n",
      "2022-04-13 19:52:52,829 : INFO : EPOCH 4 - PROGRESS: at 31.19% examples, 420531 words/s, in_qsize 19, out_qsize 0\n",
      "2022-04-13 19:52:53,875 : INFO : EPOCH 4 - PROGRESS: at 32.73% examples, 419925 words/s, in_qsize 19, out_qsize 0\n",
      "2022-04-13 19:52:54,884 : INFO : EPOCH 4 - PROGRESS: at 33.98% examples, 418662 words/s, in_qsize 19, out_qsize 0\n",
      "2022-04-13 19:52:55,891 : INFO : EPOCH 4 - PROGRESS: at 35.33% examples, 417535 words/s, in_qsize 19, out_qsize 0\n",
      "2022-04-13 19:52:56,894 : INFO : EPOCH 4 - PROGRESS: at 36.82% examples, 417273 words/s, in_qsize 19, out_qsize 0\n",
      "2022-04-13 19:52:57,913 : INFO : EPOCH 4 - PROGRESS: at 38.19% examples, 416001 words/s, in_qsize 19, out_qsize 0\n",
      "2022-04-13 19:52:58,938 : INFO : EPOCH 4 - PROGRESS: at 39.53% examples, 414588 words/s, in_qsize 19, out_qsize 0\n",
      "2022-04-13 19:52:59,946 : INFO : EPOCH 4 - PROGRESS: at 41.03% examples, 414356 words/s, in_qsize 19, out_qsize 0\n",
      "2022-04-13 19:53:00,947 : INFO : EPOCH 4 - PROGRESS: at 42.45% examples, 413540 words/s, in_qsize 19, out_qsize 0\n",
      "2022-04-13 19:53:01,948 : INFO : EPOCH 4 - PROGRESS: at 44.04% examples, 414121 words/s, in_qsize 19, out_qsize 0\n",
      "2022-04-13 19:53:02,950 : INFO : EPOCH 4 - PROGRESS: at 45.68% examples, 415017 words/s, in_qsize 19, out_qsize 0\n",
      "2022-04-13 19:53:03,961 : INFO : EPOCH 4 - PROGRESS: at 47.13% examples, 415371 words/s, in_qsize 19, out_qsize 0\n",
      "2022-04-13 19:53:04,967 : INFO : EPOCH 4 - PROGRESS: at 48.63% examples, 415582 words/s, in_qsize 19, out_qsize 0\n",
      "2022-04-13 19:53:05,969 : INFO : EPOCH 4 - PROGRESS: at 50.13% examples, 415794 words/s, in_qsize 18, out_qsize 1\n",
      "2022-04-13 19:53:06,983 : INFO : EPOCH 4 - PROGRESS: at 51.63% examples, 416220 words/s, in_qsize 19, out_qsize 0\n",
      "2022-04-13 19:53:07,987 : INFO : EPOCH 4 - PROGRESS: at 53.01% examples, 416929 words/s, in_qsize 19, out_qsize 0\n",
      "2022-04-13 19:53:08,987 : INFO : EPOCH 4 - PROGRESS: at 54.42% examples, 416978 words/s, in_qsize 19, out_qsize 0\n",
      "2022-04-13 19:53:10,014 : INFO : EPOCH 4 - PROGRESS: at 56.04% examples, 417287 words/s, in_qsize 19, out_qsize 0\n",
      "2022-04-13 19:53:11,021 : INFO : EPOCH 4 - PROGRESS: at 57.26% examples, 415738 words/s, in_qsize 19, out_qsize 0\n",
      "2022-04-13 19:53:12,028 : INFO : EPOCH 4 - PROGRESS: at 58.68% examples, 415733 words/s, in_qsize 19, out_qsize 0\n",
      "2022-04-13 19:53:13,089 : INFO : EPOCH 4 - PROGRESS: at 59.94% examples, 414123 words/s, in_qsize 19, out_qsize 0\n",
      "2022-04-13 19:53:14,128 : INFO : EPOCH 4 - PROGRESS: at 61.29% examples, 413121 words/s, in_qsize 19, out_qsize 0\n",
      "2022-04-13 19:53:15,131 : INFO : EPOCH 4 - PROGRESS: at 62.58% examples, 412289 words/s, in_qsize 19, out_qsize 0\n",
      "2022-04-13 19:53:16,166 : INFO : EPOCH 4 - PROGRESS: at 63.93% examples, 410760 words/s, in_qsize 20, out_qsize 0\n",
      "2022-04-13 19:53:17,202 : INFO : EPOCH 4 - PROGRESS: at 65.35% examples, 410300 words/s, in_qsize 19, out_qsize 0\n",
      "2022-04-13 19:53:18,240 : INFO : EPOCH 4 - PROGRESS: at 66.51% examples, 408947 words/s, in_qsize 20, out_qsize 0\n",
      "2022-04-13 19:53:19,250 : INFO : EPOCH 4 - PROGRESS: at 67.91% examples, 408877 words/s, in_qsize 19, out_qsize 0\n",
      "2022-04-13 19:53:20,250 : INFO : EPOCH 4 - PROGRESS: at 69.23% examples, 408754 words/s, in_qsize 19, out_qsize 0\n",
      "2022-04-13 19:53:21,262 : INFO : EPOCH 4 - PROGRESS: at 70.51% examples, 408552 words/s, in_qsize 20, out_qsize 0\n",
      "2022-04-13 19:53:22,273 : INFO : EPOCH 4 - PROGRESS: at 71.85% examples, 408657 words/s, in_qsize 19, out_qsize 0\n",
      "2022-04-13 19:53:23,283 : INFO : EPOCH 4 - PROGRESS: at 73.44% examples, 409019 words/s, in_qsize 19, out_qsize 0\n",
      "2022-04-13 19:53:24,293 : INFO : EPOCH 4 - PROGRESS: at 74.76% examples, 408447 words/s, in_qsize 19, out_qsize 0\n",
      "2022-04-13 19:53:25,293 : INFO : EPOCH 4 - PROGRESS: at 75.95% examples, 408117 words/s, in_qsize 19, out_qsize 0\n",
      "2022-04-13 19:53:26,315 : INFO : EPOCH 4 - PROGRESS: at 77.29% examples, 408362 words/s, in_qsize 19, out_qsize 0\n",
      "2022-04-13 19:53:27,332 : INFO : EPOCH 4 - PROGRESS: at 78.67% examples, 408639 words/s, in_qsize 19, out_qsize 0\n",
      "2022-04-13 19:53:28,351 : INFO : EPOCH 4 - PROGRESS: at 79.80% examples, 407463 words/s, in_qsize 19, out_qsize 0\n",
      "2022-04-13 19:53:29,352 : INFO : EPOCH 4 - PROGRESS: at 80.90% examples, 406434 words/s, in_qsize 19, out_qsize 0\n",
      "2022-04-13 19:53:30,368 : INFO : EPOCH 4 - PROGRESS: at 82.10% examples, 405469 words/s, in_qsize 19, out_qsize 0\n",
      "2022-04-13 19:53:31,371 : INFO : EPOCH 4 - PROGRESS: at 83.38% examples, 405073 words/s, in_qsize 19, out_qsize 0\n",
      "2022-04-13 19:53:32,434 : INFO : EPOCH 4 - PROGRESS: at 84.65% examples, 404858 words/s, in_qsize 19, out_qsize 2\n",
      "2022-04-13 19:53:33,453 : INFO : EPOCH 4 - PROGRESS: at 86.04% examples, 404921 words/s, in_qsize 19, out_qsize 0\n",
      "2022-04-13 19:53:34,454 : INFO : EPOCH 4 - PROGRESS: at 87.33% examples, 404134 words/s, in_qsize 19, out_qsize 0\n",
      "2022-04-13 19:53:35,473 : INFO : EPOCH 4 - PROGRESS: at 88.71% examples, 403599 words/s, in_qsize 19, out_qsize 0\n",
      "2022-04-13 19:53:36,503 : INFO : EPOCH 4 - PROGRESS: at 90.14% examples, 403535 words/s, in_qsize 20, out_qsize 1\n",
      "2022-04-13 19:53:37,549 : INFO : EPOCH 4 - PROGRESS: at 91.51% examples, 403077 words/s, in_qsize 19, out_qsize 0\n",
      "2022-04-13 19:53:38,589 : INFO : EPOCH 4 - PROGRESS: at 92.91% examples, 403055 words/s, in_qsize 19, out_qsize 0\n",
      "2022-04-13 19:53:39,627 : INFO : EPOCH 4 - PROGRESS: at 94.28% examples, 402761 words/s, in_qsize 19, out_qsize 0\n",
      "2022-04-13 19:53:40,630 : INFO : EPOCH 4 - PROGRESS: at 95.62% examples, 402472 words/s, in_qsize 19, out_qsize 0\n",
      "2022-04-13 19:53:41,641 : INFO : EPOCH 4 - PROGRESS: at 96.92% examples, 402221 words/s, in_qsize 19, out_qsize 0\n",
      "2022-04-13 19:53:42,645 : INFO : EPOCH 4 - PROGRESS: at 98.20% examples, 401824 words/s, in_qsize 19, out_qsize 0\n",
      "2022-04-13 19:53:43,651 : INFO : EPOCH 4 - PROGRESS: at 99.44% examples, 401174 words/s, in_qsize 19, out_qsize 0\n",
      "2022-04-13 19:53:43,905 : INFO : worker thread finished; awaiting finish of 9 more threads\n",
      "2022-04-13 19:53:43,926 : INFO : worker thread finished; awaiting finish of 8 more threads\n",
      "2022-04-13 19:53:43,952 : INFO : worker thread finished; awaiting finish of 7 more threads\n",
      "2022-04-13 19:53:43,955 : INFO : worker thread finished; awaiting finish of 6 more threads\n",
      "2022-04-13 19:53:43,973 : INFO : worker thread finished; awaiting finish of 5 more threads\n",
      "2022-04-13 19:53:43,985 : INFO : worker thread finished; awaiting finish of 4 more threads\n",
      "2022-04-13 19:53:43,990 : INFO : worker thread finished; awaiting finish of 3 more threads\n",
      "2022-04-13 19:53:43,995 : INFO : worker thread finished; awaiting finish of 2 more threads\n",
      "2022-04-13 19:53:43,996 : INFO : worker thread finished; awaiting finish of 1 more threads\n",
      "2022-04-13 19:53:44,011 : INFO : worker thread finished; awaiting finish of 0 more threads\n",
      "2022-04-13 19:53:44,011 : INFO : EPOCH - 4 : training on 41519359 raw words (30350184 effective words) took 75.6s, 401297 effective words/s\n",
      "2022-04-13 19:53:45,078 : INFO : EPOCH 5 - PROGRESS: at 1.14% examples, 348324 words/s, in_qsize 19, out_qsize 0\n",
      "2022-04-13 19:53:46,102 : INFO : EPOCH 5 - PROGRESS: at 2.54% examples, 384302 words/s, in_qsize 19, out_qsize 0\n",
      "2022-04-13 19:53:47,123 : INFO : EPOCH 5 - PROGRESS: at 3.91% examples, 390331 words/s, in_qsize 19, out_qsize 0\n",
      "2022-04-13 19:53:48,147 : INFO : EPOCH 5 - PROGRESS: at 5.19% examples, 387981 words/s, in_qsize 19, out_qsize 0\n",
      "2022-04-13 19:53:49,157 : INFO : EPOCH 5 - PROGRESS: at 6.52% examples, 391380 words/s, in_qsize 19, out_qsize 0\n",
      "2022-04-13 19:53:50,181 : INFO : EPOCH 5 - PROGRESS: at 7.87% examples, 395279 words/s, in_qsize 19, out_qsize 0\n",
      "2022-04-13 19:53:51,232 : INFO : EPOCH 5 - PROGRESS: at 9.07% examples, 392406 words/s, in_qsize 19, out_qsize 0\n",
      "2022-04-13 19:53:52,235 : INFO : EPOCH 5 - PROGRESS: at 10.11% examples, 391655 words/s, in_qsize 19, out_qsize 0\n",
      "2022-04-13 19:53:53,240 : INFO : EPOCH 5 - PROGRESS: at 11.13% examples, 390326 words/s, in_qsize 19, out_qsize 0\n",
      "2022-04-13 19:53:54,243 : INFO : EPOCH 5 - PROGRESS: at 12.13% examples, 389955 words/s, in_qsize 19, out_qsize 0\n",
      "2022-04-13 19:53:55,298 : INFO : EPOCH 5 - PROGRESS: at 13.44% examples, 391808 words/s, in_qsize 19, out_qsize 0\n",
      "2022-04-13 19:53:56,345 : INFO : EPOCH 5 - PROGRESS: at 14.67% examples, 393510 words/s, in_qsize 18, out_qsize 1\n",
      "2022-04-13 19:53:57,352 : INFO : EPOCH 5 - PROGRESS: at 15.91% examples, 395823 words/s, in_qsize 19, out_qsize 0\n",
      "2022-04-13 19:53:58,366 : INFO : EPOCH 5 - PROGRESS: at 17.03% examples, 395926 words/s, in_qsize 19, out_qsize 0\n",
      "2022-04-13 19:53:59,368 : INFO : EPOCH 5 - PROGRESS: at 18.15% examples, 397285 words/s, in_qsize 19, out_qsize 0\n",
      "2022-04-13 19:54:00,373 : INFO : EPOCH 5 - PROGRESS: at 19.23% examples, 397778 words/s, in_qsize 19, out_qsize 0\n",
      "2022-04-13 19:54:01,393 : INFO : EPOCH 5 - PROGRESS: at 20.24% examples, 397529 words/s, in_qsize 19, out_qsize 0\n",
      "2022-04-13 19:54:02,406 : INFO : EPOCH 5 - PROGRESS: at 21.61% examples, 398175 words/s, in_qsize 19, out_qsize 0\n",
      "2022-04-13 19:54:03,438 : INFO : EPOCH 5 - PROGRESS: at 22.68% examples, 397797 words/s, in_qsize 20, out_qsize 1\n",
      "2022-04-13 19:54:04,480 : INFO : EPOCH 5 - PROGRESS: at 23.78% examples, 398958 words/s, in_qsize 19, out_qsize 0\n",
      "2022-04-13 19:54:05,491 : INFO : EPOCH 5 - PROGRESS: at 24.99% examples, 399624 words/s, in_qsize 19, out_qsize 0\n",
      "2022-04-13 19:54:06,527 : INFO : EPOCH 5 - PROGRESS: at 26.59% examples, 400130 words/s, in_qsize 19, out_qsize 0\n",
      "2022-04-13 19:54:07,534 : INFO : EPOCH 5 - PROGRESS: at 28.15% examples, 400797 words/s, in_qsize 20, out_qsize 1\n",
      "2022-04-13 19:54:08,548 : INFO : EPOCH 5 - PROGRESS: at 29.53% examples, 400351 words/s, in_qsize 19, out_qsize 0\n",
      "2022-04-13 19:54:09,576 : INFO : EPOCH 5 - PROGRESS: at 31.09% examples, 400972 words/s, in_qsize 19, out_qsize 0\n",
      "2022-04-13 19:54:10,599 : INFO : EPOCH 5 - PROGRESS: at 32.64% examples, 401763 words/s, in_qsize 20, out_qsize 0\n",
      "2022-04-13 19:54:11,604 : INFO : EPOCH 5 - PROGRESS: at 34.04% examples, 402604 words/s, in_qsize 19, out_qsize 0\n",
      "2022-04-13 19:54:12,609 : INFO : EPOCH 5 - PROGRESS: at 35.48% examples, 402880 words/s, in_qsize 19, out_qsize 0\n",
      "2022-04-13 19:54:13,614 : INFO : EPOCH 5 - PROGRESS: at 36.93% examples, 403092 words/s, in_qsize 19, out_qsize 0\n",
      "2022-04-13 19:54:14,631 : INFO : EPOCH 5 - PROGRESS: at 38.44% examples, 403303 words/s, in_qsize 19, out_qsize 0\n",
      "2022-04-13 19:54:15,632 : INFO : EPOCH 5 - PROGRESS: at 39.89% examples, 403768 words/s, in_qsize 19, out_qsize 0\n",
      "2022-04-13 19:54:16,649 : INFO : EPOCH 5 - PROGRESS: at 41.38% examples, 403351 words/s, in_qsize 19, out_qsize 0\n",
      "2022-04-13 19:54:17,656 : INFO : EPOCH 5 - PROGRESS: at 42.87% examples, 403885 words/s, in_qsize 19, out_qsize 0\n",
      "2022-04-13 19:54:18,669 : INFO : EPOCH 5 - PROGRESS: at 44.47% examples, 404169 words/s, in_qsize 19, out_qsize 0\n",
      "2022-04-13 19:54:19,696 : INFO : EPOCH 5 - PROGRESS: at 46.03% examples, 404654 words/s, in_qsize 20, out_qsize 0\n",
      "2022-04-13 19:54:20,705 : INFO : EPOCH 5 - PROGRESS: at 47.43% examples, 405089 words/s, in_qsize 19, out_qsize 0\n",
      "2022-04-13 19:54:21,710 : INFO : EPOCH 5 - PROGRESS: at 48.97% examples, 405761 words/s, in_qsize 19, out_qsize 0\n",
      "2022-04-13 19:54:22,723 : INFO : EPOCH 5 - PROGRESS: at 50.31% examples, 405170 words/s, in_qsize 19, out_qsize 0\n",
      "2022-04-13 19:54:23,760 : INFO : EPOCH 5 - PROGRESS: at 51.79% examples, 405442 words/s, in_qsize 19, out_qsize 0\n",
      "2022-04-13 19:54:24,763 : INFO : EPOCH 5 - PROGRESS: at 52.87% examples, 403949 words/s, in_qsize 19, out_qsize 0\n",
      "2022-04-13 19:54:25,769 : INFO : EPOCH 5 - PROGRESS: at 54.10% examples, 403170 words/s, in_qsize 19, out_qsize 0\n",
      "2022-04-13 19:54:26,779 : INFO : EPOCH 5 - PROGRESS: at 55.28% examples, 401281 words/s, in_qsize 19, out_qsize 0\n",
      "2022-04-13 19:54:27,783 : INFO : EPOCH 5 - PROGRESS: at 56.70% examples, 401328 words/s, in_qsize 20, out_qsize 0\n",
      "2022-04-13 19:54:28,808 : INFO : EPOCH 5 - PROGRESS: at 57.91% examples, 400045 words/s, in_qsize 19, out_qsize 0\n",
      "2022-04-13 19:54:29,817 : INFO : EPOCH 5 - PROGRESS: at 59.28% examples, 399906 words/s, in_qsize 19, out_qsize 0\n",
      "2022-04-13 19:54:30,844 : INFO : EPOCH 5 - PROGRESS: at 60.63% examples, 399524 words/s, in_qsize 20, out_qsize 0\n",
      "2022-04-13 19:54:31,864 : INFO : EPOCH 5 - PROGRESS: at 61.86% examples, 398565 words/s, in_qsize 19, out_qsize 0\n",
      "2022-04-13 19:54:32,865 : INFO : EPOCH 5 - PROGRESS: at 63.20% examples, 398099 words/s, in_qsize 19, out_qsize 0\n",
      "2022-04-13 19:54:33,871 : INFO : EPOCH 5 - PROGRESS: at 64.79% examples, 398151 words/s, in_qsize 19, out_qsize 0\n",
      "2022-04-13 19:54:34,871 : INFO : EPOCH 5 - PROGRESS: at 66.01% examples, 398092 words/s, in_qsize 19, out_qsize 0\n",
      "2022-04-13 19:54:35,910 : INFO : EPOCH 5 - PROGRESS: at 67.43% examples, 398109 words/s, in_qsize 19, out_qsize 0\n",
      "2022-04-13 19:54:36,976 : INFO : EPOCH 5 - PROGRESS: at 68.89% examples, 398256 words/s, in_qsize 19, out_qsize 0\n",
      "2022-04-13 19:54:37,980 : INFO : EPOCH 5 - PROGRESS: at 70.21% examples, 398709 words/s, in_qsize 19, out_qsize 0\n",
      "2022-04-13 19:54:39,006 : INFO : EPOCH 5 - PROGRESS: at 71.59% examples, 398793 words/s, in_qsize 19, out_qsize 0\n",
      "2022-04-13 19:54:40,019 : INFO : EPOCH 5 - PROGRESS: at 73.02% examples, 398873 words/s, in_qsize 20, out_qsize 0\n",
      "2022-04-13 19:54:41,037 : INFO : EPOCH 5 - PROGRESS: at 74.04% examples, 396680 words/s, in_qsize 19, out_qsize 0\n",
      "2022-04-13 19:54:42,038 : INFO : EPOCH 5 - PROGRESS: at 75.26% examples, 396411 words/s, in_qsize 19, out_qsize 0\n",
      "2022-04-13 19:54:43,048 : INFO : EPOCH 5 - PROGRESS: at 76.48% examples, 396447 words/s, in_qsize 19, out_qsize 0\n",
      "2022-04-13 19:54:44,056 : INFO : EPOCH 5 - PROGRESS: at 77.65% examples, 396027 words/s, in_qsize 19, out_qsize 0\n",
      "2022-04-13 19:54:45,097 : INFO : EPOCH 5 - PROGRESS: at 78.84% examples, 395271 words/s, in_qsize 20, out_qsize 0\n",
      "2022-04-13 19:54:46,107 : INFO : EPOCH 5 - PROGRESS: at 80.09% examples, 395010 words/s, in_qsize 19, out_qsize 0\n",
      "2022-04-13 19:54:47,120 : INFO : EPOCH 5 - PROGRESS: at 81.12% examples, 393787 words/s, in_qsize 19, out_qsize 0\n",
      "2022-04-13 19:54:48,145 : INFO : EPOCH 5 - PROGRESS: at 82.40% examples, 393337 words/s, in_qsize 19, out_qsize 0\n",
      "2022-04-13 19:54:49,149 : INFO : EPOCH 5 - PROGRESS: at 83.63% examples, 392917 words/s, in_qsize 19, out_qsize 0\n",
      "2022-04-13 19:54:50,173 : INFO : EPOCH 5 - PROGRESS: at 84.81% examples, 392583 words/s, in_qsize 19, out_qsize 0\n",
      "2022-04-13 19:54:51,229 : INFO : EPOCH 5 - PROGRESS: at 86.04% examples, 391969 words/s, in_qsize 19, out_qsize 0\n",
      "2022-04-13 19:54:52,262 : INFO : EPOCH 5 - PROGRESS: at 87.28% examples, 391008 words/s, in_qsize 19, out_qsize 0\n",
      "2022-04-13 19:54:53,341 : INFO : EPOCH 5 - PROGRESS: at 88.71% examples, 390549 words/s, in_qsize 19, out_qsize 0\n",
      "2022-04-13 19:54:54,378 : INFO : EPOCH 5 - PROGRESS: at 89.94% examples, 389824 words/s, in_qsize 19, out_qsize 0\n",
      "2022-04-13 19:54:55,403 : INFO : EPOCH 5 - PROGRESS: at 91.28% examples, 389596 words/s, in_qsize 20, out_qsize 1\n",
      "2022-04-13 19:54:56,443 : INFO : EPOCH 5 - PROGRESS: at 92.64% examples, 389477 words/s, in_qsize 19, out_qsize 0\n",
      "2022-04-13 19:54:57,459 : INFO : EPOCH 5 - PROGRESS: at 94.00% examples, 389582 words/s, in_qsize 19, out_qsize 0\n",
      "2022-04-13 19:54:58,479 : INFO : EPOCH 5 - PROGRESS: at 95.32% examples, 389387 words/s, in_qsize 19, out_qsize 0\n",
      "2022-04-13 19:54:59,480 : INFO : EPOCH 5 - PROGRESS: at 96.65% examples, 389491 words/s, in_qsize 19, out_qsize 0\n",
      "2022-04-13 19:55:00,495 : INFO : EPOCH 5 - PROGRESS: at 98.02% examples, 389391 words/s, in_qsize 19, out_qsize 0\n",
      "2022-04-13 19:55:01,513 : INFO : EPOCH 5 - PROGRESS: at 99.43% examples, 389508 words/s, in_qsize 19, out_qsize 0\n",
      "2022-04-13 19:55:01,720 : INFO : worker thread finished; awaiting finish of 9 more threads\n",
      "2022-04-13 19:55:01,721 : INFO : worker thread finished; awaiting finish of 8 more threads\n",
      "2022-04-13 19:55:01,735 : INFO : worker thread finished; awaiting finish of 7 more threads\n",
      "2022-04-13 19:55:01,755 : INFO : worker thread finished; awaiting finish of 6 more threads\n",
      "2022-04-13 19:55:01,768 : INFO : worker thread finished; awaiting finish of 5 more threads\n",
      "2022-04-13 19:55:01,792 : INFO : worker thread finished; awaiting finish of 4 more threads\n",
      "2022-04-13 19:55:01,810 : INFO : worker thread finished; awaiting finish of 3 more threads\n",
      "2022-04-13 19:55:01,814 : INFO : worker thread finished; awaiting finish of 2 more threads\n",
      "2022-04-13 19:55:01,829 : INFO : worker thread finished; awaiting finish of 1 more threads\n",
      "2022-04-13 19:55:01,832 : INFO : worker thread finished; awaiting finish of 0 more threads\n",
      "2022-04-13 19:55:01,833 : INFO : EPOCH - 5 : training on 41519359 raw words (30347394 effective words) took 77.8s, 389979 effective words/s\n",
      "2022-04-13 19:55:01,834 : INFO : Word2Vec lifecycle event {'msg': 'training on 207596795 raw words (151747380 effective words) took 379.4s, 399937 effective words/s', 'datetime': '2022-04-13T19:55:01.834221', 'gensim': '4.1.2', 'python': '3.9.10 (main, Jan 15 2022, 11:40:53) \\n[Clang 13.0.0 (clang-1300.0.29.3)]', 'platform': 'macOS-12.3.1-arm64-arm-64bit', 'event': 'train'}\n",
      "2022-04-13 19:55:01,835 : INFO : Word2Vec lifecycle event {'params': 'Word2Vec(vocab=70537, vector_size=150, alpha=0.025)', 'datetime': '2022-04-13T19:55:01.835174', 'gensim': '4.1.2', 'python': '3.9.10 (main, Jan 15 2022, 11:40:53) \\n[Clang 13.0.0 (clang-1300.0.29.3)]', 'platform': 'macOS-12.3.1-arm64-arm-64bit', 'event': 'created'}\n"
     ]
    },
    {
     "name": "stdout",
     "output_type": "stream",
     "text": [
      "Training time: 0:06:25.705325\n"
     ]
    }
   ],
   "source": [
    "from datetime import datetime\n",
    "\n",
    "start_time = datetime.now()\n",
    "\n",
    "model = gensim.models.Word2Vec(documents, vector_size=150, window=10, min_count=2, workers=10, sg=1)\n",
    "\n",
    "print(\"Training time:\", datetime.now() - start_time)"
   ]
  },
  {
   "cell_type": "markdown",
   "metadata": {},
   "source": [
    "#### Exploiting the Word2Vec model\n",
    "\n",
    "We can now inspect the word embeddings that we have trained. We can start by looking at the embeddings of a specific word:"
   ]
  },
  {
   "cell_type": "code",
   "execution_count": 7,
   "metadata": {},
   "outputs": [
    {
     "data": {
      "text/plain": [
       "array([-0.12106226,  0.33739045, -0.24111156,  0.14633438, -0.25904828,\n",
       "       -0.00920367, -0.06131919,  0.5017954 , -0.04270304,  0.12032945,\n",
       "       -0.00258901,  0.18495153,  0.09007717, -0.00287786, -0.3836427 ,\n",
       "       -0.47006226, -0.10753492,  0.09861175, -0.35135353, -0.03491545,\n",
       "        0.21512093,  0.0569086 , -0.1623219 ,  0.268995  ,  0.13661268,\n",
       "       -0.17064124, -0.14626904,  0.18791728, -0.25276044,  0.11885193,\n",
       "        0.01131065,  0.37854233, -0.11055728, -0.28835586, -0.18173747,\n",
       "       -0.01929015,  0.36101308, -0.39397696, -0.08960969, -0.19335432,\n",
       "        0.5435925 ,  0.03191932, -0.29726845, -0.43226165, -0.23146586,\n",
       "       -0.08394211,  0.14175497,  0.11351872, -0.04086443,  0.01268723,\n",
       "       -0.28935584,  0.09050785, -0.34647614,  0.19550245, -0.04698835,\n",
       "        0.22527452,  0.16180886,  0.26481518, -0.15137435, -0.265002  ,\n",
       "        0.07746117,  0.11750985, -0.23705469,  0.06652558,  0.14842092,\n",
       "       -0.10409425, -0.45004442, -0.01271718, -0.25406656,  0.08700041,\n",
       "        0.1368212 , -0.03911195, -0.04060569,  0.09605244,  0.3502043 ,\n",
       "       -0.340831  , -0.06153216, -0.11090071, -0.09884466, -0.0948763 ,\n",
       "       -0.01717526, -0.48582265, -0.08994352,  0.270137  ,  0.18463677,\n",
       "       -0.15812026,  0.32312906,  0.23054253,  0.5055404 ,  0.05540338,\n",
       "        0.41058934, -0.03248623, -0.05682439, -0.1708779 , -0.08445369,\n",
       "       -0.25551715,  0.14899726, -0.43802872,  0.6179566 ,  0.47035035,\n",
       "        0.48759434,  0.03749622,  0.40091056, -0.00574406, -0.31601667,\n",
       "        0.2578593 , -0.02842062,  0.31468776, -0.15710124, -0.00243276,\n",
       "       -0.11904521,  0.41940436, -0.04105346, -0.23755026, -0.47390798,\n",
       "        0.05004681,  0.06957898,  0.1500804 ,  0.05732217, -0.09402845,\n",
       "        0.09798327, -0.19027786,  0.03343509, -0.09973646,  0.24936007,\n",
       "        0.28966972,  0.18758325, -0.20003965,  0.00705574,  0.19212016,\n",
       "        0.11267917, -0.06452562,  0.04682115, -0.6483917 , -0.1717041 ,\n",
       "       -0.12316591, -0.1485869 ,  0.06306031,  0.22717346,  0.12034375,\n",
       "        0.21585523,  0.10281659,  0.15185763, -0.05905241, -0.5214088 ,\n",
       "        0.42718473, -0.2660494 ,  0.05249596, -0.06261785,  0.06949141],\n",
       "      dtype=float32)"
      ]
     },
     "execution_count": 7,
     "metadata": {},
     "output_type": "execute_result"
    }
   ],
   "source": [
    "# embeddings\n",
    "model.wv.get_vector(\"dirty\")"
   ]
  },
  {
   "cell_type": "markdown",
   "metadata": {},
   "source": [
    "Which are the words most similar to this one?"
   ]
  },
  {
   "cell_type": "code",
   "execution_count": 14,
   "metadata": {},
   "outputs": [
    {
     "data": {
      "text/plain": [
       "[('filthy', 0.8840414881706238),\n",
       " ('unclean', 0.8319694399833679),\n",
       " ('smelly', 0.8294471502304077),\n",
       " ('dusty', 0.8254819512367249),\n",
       " ('stained', 0.8246896266937256),\n",
       " ('dingy', 0.8034701347351074),\n",
       " ('grimy', 0.7924567461013794),\n",
       " ('grubby', 0.787903904914856),\n",
       " ('disgusting', 0.779763400554657),\n",
       " ('unkempt', 0.7652968168258667)]"
      ]
     },
     "execution_count": 14,
     "metadata": {},
     "output_type": "execute_result"
    }
   ],
   "source": [
    "# similarity\n",
    "w1 = \"dirty\"\n",
    "model.wv.most_similar(positive=w1)"
   ]
  },
  {
   "cell_type": "markdown",
   "metadata": {},
   "source": [
    "You can also limit to a smaller number of hits:"
   ]
  },
  {
   "cell_type": "code",
   "execution_count": 15,
   "metadata": {},
   "outputs": [
    {
     "data": {
      "text/plain": [
       "[('courteous', 0.9056073427200317),\n",
       " ('professional', 0.8581145405769348),\n",
       " ('efficient', 0.8253434896469116),\n",
       " ('attentive', 0.8243843913078308),\n",
       " ('curtious', 0.8120770454406738),\n",
       " ('curteous', 0.8065165877342224)]"
      ]
     },
     "execution_count": 15,
     "metadata": {},
     "output_type": "execute_result"
    }
   ],
   "source": [
    "# look up top 6 words similar to 'polite'\n",
    "w1 = [\"polite\"]\n",
    "model.wv.most_similar(positive=w1, topn=6)"
   ]
  },
  {
   "cell_type": "code",
   "execution_count": 16,
   "metadata": {},
   "outputs": [
    {
     "data": {
      "text/plain": [
       "[('germany', 0.7074711322784424),\n",
       " ('england', 0.6895706057548523),\n",
       " ('spain', 0.6778306365013123),\n",
       " ('europe', 0.6580362319946289),\n",
       " ('paris', 0.6416419148445129),\n",
       " ('ukraine', 0.622798502445221)]"
      ]
     },
     "execution_count": 16,
     "metadata": {},
     "output_type": "execute_result"
    }
   ],
   "source": [
    "# look up top 6 words similar to 'france'\n",
    "w1 = [\"france\"]\n",
    "model.wv.most_similar(positive=w1, topn=6)"
   ]
  },
  {
   "cell_type": "markdown",
   "metadata": {},
   "source": [
    "We can also provide to *most_similar* not only positive concepts, but also negative ones. This allows us to do some arithmetic on the vector representations for certain sets of words!\n",
    "\n",
    "The famous example **king - man + woman = queen** goes as follows:"
   ]
  },
  {
   "cell_type": "code",
   "execution_count": 17,
   "metadata": {},
   "outputs": [
    {
     "data": {
      "text/plain": [
       "[('queen', 0.7652041912078857)]"
      ]
     },
     "execution_count": 17,
     "metadata": {},
     "output_type": "execute_result"
    }
   ],
   "source": [
    "# arithmetic: vec(“king”) - vec(“man”) + vec(“woman”) =~ vec(“queen”)\n",
    "w1 = [\"king\",'woman']\n",
    "w2 = ['man']\n",
    "model.wv.most_similar(positive=w1, negative=w2, topn=1)"
   ]
  },
  {
   "cell_type": "markdown",
   "metadata": {},
   "source": [
    "We can get the similarity scores for specific word pairs."
   ]
  },
  {
   "cell_type": "code",
   "execution_count": 18,
   "metadata": {},
   "outputs": [
    {
     "data": {
      "text/plain": [
       "0.82944715"
      ]
     },
     "execution_count": 18,
     "metadata": {},
     "output_type": "execute_result"
    }
   ],
   "source": [
    "# similarity between two different words\n",
    "model.wv.similarity(w1=\"dirty\", w2=\"smelly\")"
   ]
  },
  {
   "cell_type": "code",
   "execution_count": 19,
   "metadata": {},
   "outputs": [
    {
     "data": {
      "text/plain": [
       "1.0"
      ]
     },
     "execution_count": 19,
     "metadata": {},
     "output_type": "execute_result"
    }
   ],
   "source": [
    "# similarity between two identical words\n",
    "model.wv.similarity(w1=\"dirty\", w2=\"dirty\")"
   ]
  },
  {
   "cell_type": "code",
   "execution_count": 20,
   "metadata": {},
   "outputs": [
    {
     "data": {
      "text/plain": [
       "0.35614142"
      ]
     },
     "execution_count": 20,
     "metadata": {},
     "output_type": "execute_result"
    }
   ],
   "source": [
    "# similarity between two unrelated words\n",
    "model.wv.similarity(w1=\"dirty\", w2=\"clean\")"
   ]
  },
  {
   "cell_type": "markdown",
   "metadata": {},
   "source": [
    "And we can check which word in a list of words is an intruder:"
   ]
  },
  {
   "cell_type": "code",
   "execution_count": 21,
   "metadata": {},
   "outputs": [
    {
     "data": {
      "text/plain": [
       "'france'"
      ]
     },
     "execution_count": 21,
     "metadata": {},
     "output_type": "execute_result"
    }
   ],
   "source": [
    "model.wv.doesnt_match([\"cat\", \"dog\", \"france\"])"
   ]
  },
  {
   "cell_type": "code",
   "execution_count": 22,
   "metadata": {},
   "outputs": [
    {
     "data": {
      "text/plain": [
       "'shower'"
      ]
     },
     "execution_count": 22,
     "metadata": {},
     "output_type": "execute_result"
    }
   ],
   "source": [
    "model.wv.doesnt_match([\"bed\", \"pillow\", \"duvet\", \"shower\"])"
   ]
  },
  {
   "cell_type": "code",
   "execution_count": 23,
   "metadata": {},
   "outputs": [
    {
     "data": {
      "text/plain": [
       "'plane'"
      ]
     },
     "execution_count": 23,
     "metadata": {},
     "output_type": "execute_result"
    }
   ],
   "source": [
    "model.wv.doesnt_match([\"car\", \"bicycle\", \"plane\", \"skate\"])"
   ]
  },
  {
   "cell_type": "code",
   "execution_count": 24,
   "metadata": {},
   "outputs": [
    {
     "data": {
      "text/plain": [
       "'bicycle'"
      ]
     },
     "execution_count": 24,
     "metadata": {},
     "output_type": "execute_result"
    }
   ],
   "source": [
    "model.wv.doesnt_match([\"car\", \"bicycle\", \"bus\", \"trolley\"])"
   ]
  },
  {
   "cell_type": "markdown",
   "metadata": {},
   "source": [
    "Make your own experiments! Try to find out:\n",
    "- Which word is most similar to *lift*?\n",
    "- What are the 3 words most similar to *crab*?\n",
    "- How similar are the words *waitress* and *waiter*?\n",
    "- If you take *portugal*, remove *lisbon*, and add *dublin*, what do you get?"
   ]
  },
  {
   "cell_type": "code",
   "execution_count": 26,
   "metadata": {},
   "outputs": [
    {
     "data": {
      "text/plain": [
       "[('lifts', 0.8275881409645081)]"
      ]
     },
     "execution_count": 26,
     "metadata": {},
     "output_type": "execute_result"
    }
   ],
   "source": [
    "# most similar to lift\n",
    "model.wv.most_similar(positive=[\"lift\"], topn=1)"
   ]
  },
  {
   "cell_type": "code",
   "execution_count": 27,
   "metadata": {},
   "outputs": [
    {
     "data": {
      "text/plain": [
       "[('chowder', 0.7657322287559509),\n",
       " ('oysters', 0.7562358975410461),\n",
       " ('shrimp', 0.7560434937477112)]"
      ]
     },
     "execution_count": 27,
     "metadata": {},
     "output_type": "execute_result"
    }
   ],
   "source": [
    "# top 3 words most similar to crab\n",
    "model.wv.most_similar(positive=[\"crab\"], topn=3)"
   ]
  },
  {
   "cell_type": "code",
   "execution_count": 28,
   "metadata": {},
   "outputs": [
    {
     "data": {
      "text/plain": [
       "0.8781294"
      ]
     },
     "execution_count": 28,
     "metadata": {},
     "output_type": "execute_result"
    }
   ],
   "source": [
    "# how similar are the words waitress and waiter\n",
    "model.wv.similarity(\"waitress\", \"waiter\")"
   ]
  },
  {
   "cell_type": "code",
   "execution_count": 29,
   "metadata": {},
   "outputs": [
    {
     "data": {
      "text/plain": [
       "[('ireland', 0.6101027131080627)]"
      ]
     },
     "execution_count": 29,
     "metadata": {},
     "output_type": "execute_result"
    }
   ],
   "source": [
    "# if you take portugal, remove lisbon, and add dublin, what do you get?\n",
    "model.wv.most_similar(positive=[\"portugal\", \"dublin\"], negative=[\"lisbon\"], topn=1)"
   ]
  },
  {
   "cell_type": "markdown",
   "metadata": {},
   "source": [
    "#### Saving and loading a Word2Vec model\n",
    "\n",
    "You can save a trained model so that you are able to load it again in the future, and optionally continue training it."
   ]
  },
  {
   "cell_type": "code",
   "execution_count": 30,
   "metadata": {},
   "outputs": [
    {
     "name": "stderr",
     "output_type": "stream",
     "text": [
      "2022-04-13 20:02:44,103 : INFO : Word2Vec lifecycle event {'fname_or_handle': 'reviews_model', 'separately': 'None', 'sep_limit': 10485760, 'ignore': frozenset(), 'datetime': '2022-04-13T20:02:44.103592', 'gensim': '4.1.2', 'python': '3.9.10 (main, Jan 15 2022, 11:40:53) \\n[Clang 13.0.0 (clang-1300.0.29.3)]', 'platform': 'macOS-12.3.1-arm64-arm-64bit', 'event': 'saving'}\n",
      "2022-04-13 20:02:44,106 : INFO : storing np array 'vectors' to reviews_model.wv.vectors.npy\n",
      "2022-04-13 20:02:44,204 : INFO : storing np array 'syn1neg' to reviews_model.syn1neg.npy\n",
      "2022-04-13 20:02:44,299 : INFO : not storing attribute cum_table\n",
      "2022-04-13 20:02:44,568 : INFO : saved reviews_model\n"
     ]
    }
   ],
   "source": [
    "# save full model (including trainable vectors to resume training)\n",
    "model.save(\"reviews_model\")"
   ]
  },
  {
   "cell_type": "code",
   "execution_count": 31,
   "metadata": {},
   "outputs": [
    {
     "name": "stderr",
     "output_type": "stream",
     "text": [
      "2022-04-13 20:02:50,995 : INFO : loading Word2Vec object from reviews_model\n",
      "2022-04-13 20:02:51,010 : INFO : loading wv recursively from reviews_model.wv.* with mmap=None\n",
      "2022-04-13 20:02:51,010 : INFO : loading vectors from reviews_model.wv.vectors.npy with mmap=None\n",
      "2022-04-13 20:02:51,043 : INFO : loading syn1neg from reviews_model.syn1neg.npy with mmap=None\n",
      "2022-04-13 20:02:51,064 : INFO : setting ignored attribute cum_table to None\n",
      "2022-04-13 20:02:51,320 : INFO : Word2Vec lifecycle event {'fname': 'reviews_model', 'datetime': '2022-04-13T20:02:51.320332', 'gensim': '4.1.2', 'python': '3.9.10 (main, Jan 15 2022, 11:40:53) \\n[Clang 13.0.0 (clang-1300.0.29.3)]', 'platform': 'macOS-12.3.1-arm64-arm-64bit', 'event': 'loaded'}\n"
     ]
    }
   ],
   "source": [
    "# load full model\n",
    "model = gensim.models.Word2Vec.load(\"reviews_model\")"
   ]
  },
  {
   "cell_type": "markdown",
   "metadata": {},
   "source": [
    "#### Saving and loading the word embeddings\n",
    "\n",
    "If you're sure you won't be training the model any longer, you can save its *KeyedVectors* (the word embeddings)."
   ]
  },
  {
   "cell_type": "code",
   "execution_count": 32,
   "metadata": {},
   "outputs": [
    {
     "name": "stderr",
     "output_type": "stream",
     "text": [
      "2022-04-13 20:13:43,015 : INFO : KeyedVectors lifecycle event {'fname_or_handle': 'reviews_wv', 'separately': 'None', 'sep_limit': 10485760, 'ignore': frozenset(), 'datetime': '2022-04-13T20:13:43.015690', 'gensim': '4.1.2', 'python': '3.9.10 (main, Jan 15 2022, 11:40:53) \\n[Clang 13.0.0 (clang-1300.0.29.3)]', 'platform': 'macOS-12.3.1-arm64-arm-64bit', 'event': 'saving'}\n",
      "2022-04-13 20:13:43,017 : INFO : storing np array 'vectors' to reviews_wv.vectors.npy\n",
      "2022-04-13 20:13:43,125 : INFO : saved reviews_wv\n"
     ]
    }
   ],
   "source": [
    "# save model word vectors\n",
    "model.wv.save(\"reviews_wv\")"
   ]
  },
  {
   "cell_type": "markdown",
   "metadata": {},
   "source": [
    "After saving the embeddings, you can load them and use them."
   ]
  },
  {
   "cell_type": "code",
   "execution_count": 33,
   "metadata": {},
   "outputs": [
    {
     "name": "stderr",
     "output_type": "stream",
     "text": [
      "2022-04-13 20:14:24,032 : INFO : loading KeyedVectors object from reviews_wv\n",
      "2022-04-13 20:14:24,046 : INFO : loading vectors from reviews_wv.vectors.npy with mmap=None\n",
      "2022-04-13 20:14:24,067 : INFO : KeyedVectors lifecycle event {'fname': 'reviews_wv', 'datetime': '2022-04-13T20:14:24.067554', 'gensim': '4.1.2', 'python': '3.9.10 (main, Jan 15 2022, 11:40:53) \\n[Clang 13.0.0 (clang-1300.0.29.3)]', 'platform': 'macOS-12.3.1-arm64-arm-64bit', 'event': 'loaded'}\n"
     ]
    },
    {
     "name": "stdout",
     "output_type": "stream",
     "text": [
      "[('lifts', 0.8275881409645081)]\n"
     ]
    }
   ],
   "source": [
    "# load model word vectors\n",
    "wv = gensim.models.KeyedVectors.load(\"reviews_wv\")\n",
    "\n",
    "print(wv.most_similar(positive=\"lift\", topn=1))"
   ]
  },
  {
   "cell_type": "markdown",
   "metadata": {},
   "source": [
    "## Visualization\n",
    "\n",
    "Word embeddings can be visualized by reducing dimensionality of the words to 2 dimensions using [tSNE](https://scikit-learn.org/stable/modules/generated/sklearn.manifold.TSNE.html).\n",
    "\n",
    "Given enough training data, we can observe certain patterns in the vector space, including:\n",
    "- Semantic relations: words like *cat*, *dog*, *cow*, etc. have a tendency to lie close by.\n",
    "- Syntactic relations: words like *run*, *running* or *cut*, *cutting* lie close together.\n",
    "- Arithmetic properties such as *King - Man = Queen - Woman*."
   ]
  },
  {
   "cell_type": "code",
   "execution_count": 34,
   "metadata": {},
   "outputs": [],
   "source": [
    "from sklearn.manifold import TSNE\n",
    "import numpy as np\n",
    "import matplotlib.pyplot as plt\n",
    "import random\n",
    "\n",
    "\n",
    "def reduce_dimensions(model, num_dimensions=2, words=[]):\n",
    "\n",
    "    vectors = [] # positions in vector space\n",
    "    labels = [] # keep track of words to label our data again later\n",
    "    word_count = 0\n",
    "    \n",
    "    # if no word list is given, assume we want to use the whole data in the model\n",
    "    if(words == []):\n",
    "        words = model.wv.index_to_key\n",
    "\n",
    "    for word in words:\n",
    "        vectors.append(model.wv[word])\n",
    "        labels.append(word)\n",
    "\n",
    "    # convert both lists into numpy vectors for reduction\n",
    "    vectors = np.asarray(vectors)\n",
    "    labels = np.asarray(labels)\n",
    "\n",
    "    # reduce using t-SNE\n",
    "    tsne = TSNE(n_components=num_dimensions, random_state=0)\n",
    "    vectors = tsne.fit_transform(vectors)\n",
    "\n",
    "    return vectors, labels\n",
    "\n",
    "\n",
    "# 2 dimension plotting\n",
    "def plot_with_matplotlib(x_vals, y_vals, labels, words=[]):\n",
    "\n",
    "    random.seed(0)\n",
    "    \n",
    "    x_vals_new = np.array([])\n",
    "    y_vals_new = np.array([])\n",
    "    labels_new = np.array([])\n",
    "    if(words == []):\n",
    "        # if no word list is given, assume we want to plot the whole data\n",
    "        x_vals_new = x_vals\n",
    "        y_vals_new = y_vals\n",
    "        labels_new = labels\n",
    "    else:\n",
    "        for i in range(len(labels)):\n",
    "            if(labels[i] in words):\n",
    "                x_vals_new = np.append(x_vals_new,x_vals[i])\n",
    "                y_vals_new = np.append(y_vals_new,y_vals[i])\n",
    "                labels_new = np.append(labels_new,labels[i])\n",
    "    \n",
    "    plt.figure(figsize=(12, 12))\n",
    "    plt.scatter(x_vals_new, y_vals_new)\n",
    "\n",
    "    # apply labels\n",
    "    for i in range(len(labels_new)):\n",
    "        plt.annotate(labels_new[i], (x_vals_new[i], y_vals_new[i]))\n",
    "    \n",
    "    plt.show()"
   ]
  },
  {
   "cell_type": "code",
   "execution_count": 35,
   "metadata": {},
   "outputs": [
    {
     "name": "stdout",
     "output_type": "stream",
     "text": [
      "[269.5624, 1.7829943, 220.81143, 50.533993] [-124.8034, -295.07968, -343.83212, -76.050934] ['king' 'man' 'queen' 'woman']\n"
     ]
    },
    {
     "name": "stderr",
     "output_type": "stream",
     "text": [
      "/opt/homebrew/lib/python3.9/site-packages/sklearn/manifold/_t_sne.py:780: FutureWarning: The default initialization in TSNE will change from 'random' to 'pca' in 1.2.\n",
      "  warnings.warn(\n",
      "/opt/homebrew/lib/python3.9/site-packages/sklearn/manifold/_t_sne.py:790: FutureWarning: The default learning rate in TSNE will change from 200.0 to 'auto' in 1.2.\n",
      "  warnings.warn(\n"
     ]
    }
   ],
   "source": [
    "words = []\n",
    "words.extend([\"king\", \"man\", \"queen\", \"woman\"])\n",
    "\n",
    "vectors, labels = reduce_dimensions(model, 2, words)\n",
    "x_vals = [v[0] for v in vectors]\n",
    "y_vals = [v[1] for v in vectors]\n",
    "print(x_vals, y_vals, labels)"
   ]
  },
  {
   "cell_type": "code",
   "execution_count": 36,
   "metadata": {},
   "outputs": [
    {
     "data": {
      "image/png": "[encoded data removed]",
      "text/plain": [
       "<Figure size 864x864 with 1 Axes>"
      ]
     },
     "metadata": {
      "needs_background": "light"
     },
     "output_type": "display_data"
    }
   ],
   "source": [
    "plot_with_matplotlib(x_vals, y_vals, labels, [\"king\", \"man\", \"queen\", \"woman\"])"
   ]
  },
  {
   "cell_type": "markdown",
   "metadata": {},
   "source": [
    "## Portuguese embeddings\n",
    "\n",
    "A number of embeddings for Portuguese are available at [NILC](http://nilc.icmc.usp.br/embeddings), as well as at the [NLX-group](https://github.com/nlx-group/LX-DSemVectors)."
   ]
  },
  {
   "cell_type": "code",
   "execution_count": 38,
   "metadata": {},
   "outputs": [],
   "source": [
    "from gensim.models import KeyedVectors\n",
    "\n",
    "# takes a while to load...\n",
    "# model_pt = KeyedVectors.load_word2vec_format('skip_s100.txt')\n",
    "\n",
    "# file takes a lot of time to download..."
   ]
  },
  {
   "cell_type": "code",
   "execution_count": 39,
   "metadata": {},
   "outputs": [],
   "source": [
    "# save model word vectors\n",
    "# model_pt.save(\"pt_wv\")"
   ]
  },
  {
   "cell_type": "code",
   "execution_count": 40,
   "metadata": {},
   "outputs": [],
   "source": [
    "# load model word vectors (much faster than the above)\n",
    "# model_pt = gensim.models.KeyedVectors.load(\"pt_wv\")"
   ]
  },
  {
   "cell_type": "code",
   "execution_count": 41,
   "metadata": {},
   "outputs": [],
   "source": [
    "# model_pt.most_similar(positive=[\"cão\"])"
   ]
  },
  {
   "cell_type": "code",
   "execution_count": 42,
   "metadata": {},
   "outputs": [],
   "source": [
    "# model_pt.most_similar(positive=[\"rei\", \"mulher\"], negative=[\"homem\"])"
   ]
  },
  {
   "cell_type": "markdown",
   "metadata": {},
   "source": [
    "Make your own experiments!"
   ]
  },
  {
   "cell_type": "code",
   "execution_count": null,
   "metadata": {},
   "outputs": [],
   "source": [
    "# your code here\n"
   ]
  }
 ],
 "metadata": {
  "kernelspec": {
   "display_name": "Python 3",
   "language": "python",
   "name": "python3"
  },
  "language_info": {
   "codemirror_mode": {
    "name": "ipython",
    "version": 3
   },
   "file_extension": ".py",
   "mimetype": "text/x-python",
   "name": "python",
   "nbconvert_exporter": "python",
   "pygments_lexer": "ipython3",
   "version": "3.9.10"
  }
 },
 "nbformat": 4,
 "nbformat_minor": 2
}
